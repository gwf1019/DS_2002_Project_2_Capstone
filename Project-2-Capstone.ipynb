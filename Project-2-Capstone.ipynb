{
 "cells": [
  {
   "cell_type": "code",
   "execution_count": null,
   "metadata": {
    "application/vnd.databricks.v1+cell": {
     "cellMetadata": {
      "byteLimit": 2048000,
      "rowLimit": 10000
     },
     "inputWidgets": {},
     "nuid": "1b0674b8-505b-4487-bf2e-571bd9a1dfc1",
     "showTitle": false,
     "title": ""
    }
   },
   "outputs": [
    {
     "name": "stdout",
     "output_type": "stream",
     "text": [
      "Python interpreter will be restarted.\n",
      "Requirement already satisfied: pymongo in /local_disk0/.ephemeral_nfs/cluster_libraries/python/lib/python3.9/site-packages (3.11.0)\n",
      "Python interpreter will be restarted.\n"
     ]
    }
   ],
   "source": [
    "pip install pymongo"
   ]
  },
  {
   "cell_type": "code",
   "execution_count": null,
   "metadata": {
    "application/vnd.databricks.v1+cell": {
     "cellMetadata": {
      "byteLimit": 2048000,
      "rowLimit": 10000
     },
     "inputWidgets": {},
     "nuid": "13600f87-34b9-49f6-bc3f-6f23dead00c5",
     "showTitle": false,
     "title": ""
    }
   },
   "outputs": [
    {
     "name": "stdout",
     "output_type": "stream",
     "text": [
      "Python interpreter will be restarted.\n",
      "Requirement already satisfied: pymongo[srv] in /local_disk0/.ephemeral_nfs/cluster_libraries/python/lib/python3.9/site-packages (3.11.0)\n",
      "Collecting dnspython<2.0.0,>=1.16.0\n",
      "  Downloading dnspython-1.16.0-py2.py3-none-any.whl (188 kB)\n",
      "Installing collected packages: dnspython\n",
      "Successfully installed dnspython-1.16.0\n",
      "Python interpreter will be restarted.\n"
     ]
    }
   ],
   "source": [
    "pip install pymongo[srv]"
   ]
  },
  {
   "cell_type": "code",
   "execution_count": null,
   "metadata": {
    "application/vnd.databricks.v1+cell": {
     "cellMetadata": {
      "byteLimit": 2048000,
      "rowLimit": 10000
     },
     "inputWidgets": {},
     "nuid": "5f59c470-7c0d-4dd0-a68d-be3b67a7c0c8",
     "showTitle": false,
     "title": ""
    }
   },
   "outputs": [
    {
     "name": "stdout",
     "output_type": "stream",
     "text": [
      "Python interpreter will be restarted.\n",
      "Requirement already satisfied: PyMySQL in /local_disk0/.ephemeral_nfs/envs/pythonEnv-db5dc27b-7ec5-46ab-bde2-db236be79d38/lib/python3.9/site-packages (1.0.3)\n",
      "Python interpreter will be restarted.\n"
     ]
    }
   ],
   "source": [
    "pip install PyMySQL"
   ]
  },
  {
   "cell_type": "code",
   "execution_count": null,
   "metadata": {
    "application/vnd.databricks.v1+cell": {
     "cellMetadata": {
      "byteLimit": 2048000,
      "rowLimit": 10000
     },
     "inputWidgets": {},
     "nuid": "4535c073-a557-46db-bc52-ecfdfa2282a0",
     "showTitle": false,
     "title": ""
    }
   },
   "outputs": [
    {
     "name": "stdout",
     "output_type": "stream",
     "text": [
      "Python interpreter will be restarted.\n",
      "Requirement already satisfied: Flask-SQLAlchemy in /local_disk0/.ephemeral_nfs/envs/pythonEnv-db5dc27b-7ec5-46ab-bde2-db236be79d38/lib/python3.9/site-packages (3.0.3)\n",
      "Requirement already satisfied: Flask>=2.2 in /local_disk0/.ephemeral_nfs/envs/pythonEnv-db5dc27b-7ec5-46ab-bde2-db236be79d38/lib/python3.9/site-packages (from Flask-SQLAlchemy) (2.3.2)\n",
      "Requirement already satisfied: SQLAlchemy>=1.4.18 in /local_disk0/.ephemeral_nfs/envs/pythonEnv-db5dc27b-7ec5-46ab-bde2-db236be79d38/lib/python3.9/site-packages (from Flask-SQLAlchemy) (2.0.13)\n",
      "Requirement already satisfied: importlib-metadata>=3.6.0 in /databricks/python3/lib/python3.9/site-packages (from Flask>=2.2->Flask-SQLAlchemy) (4.11.3)\n",
      "Requirement already satisfied: Werkzeug>=2.3.3 in /local_disk0/.ephemeral_nfs/envs/pythonEnv-db5dc27b-7ec5-46ab-bde2-db236be79d38/lib/python3.9/site-packages (from Flask>=2.2->Flask-SQLAlchemy) (2.3.4)\n",
      "Requirement already satisfied: click>=8.1.3 in /local_disk0/.ephemeral_nfs/envs/pythonEnv-db5dc27b-7ec5-46ab-bde2-db236be79d38/lib/python3.9/site-packages (from Flask>=2.2->Flask-SQLAlchemy) (8.1.3)\n",
      "Requirement already satisfied: itsdangerous>=2.1.2 in /local_disk0/.ephemeral_nfs/envs/pythonEnv-db5dc27b-7ec5-46ab-bde2-db236be79d38/lib/python3.9/site-packages (from Flask>=2.2->Flask-SQLAlchemy) (2.1.2)\n",
      "Requirement already satisfied: blinker>=1.6.2 in /local_disk0/.ephemeral_nfs/envs/pythonEnv-db5dc27b-7ec5-46ab-bde2-db236be79d38/lib/python3.9/site-packages (from Flask>=2.2->Flask-SQLAlchemy) (1.6.2)\n",
      "Requirement already satisfied: Jinja2>=3.1.2 in /local_disk0/.ephemeral_nfs/envs/pythonEnv-db5dc27b-7ec5-46ab-bde2-db236be79d38/lib/python3.9/site-packages (from Flask>=2.2->Flask-SQLAlchemy) (3.1.2)\n",
      "Requirement already satisfied: zipp>=0.5 in /databricks/python3/lib/python3.9/site-packages (from importlib-metadata>=3.6.0->Flask>=2.2->Flask-SQLAlchemy) (3.7.0)\n",
      "Requirement already satisfied: MarkupSafe>=2.0 in /local_disk0/.ephemeral_nfs/envs/pythonEnv-db5dc27b-7ec5-46ab-bde2-db236be79d38/lib/python3.9/site-packages (from Jinja2>=3.1.2->Flask>=2.2->Flask-SQLAlchemy) (2.1.2)\n",
      "Requirement already satisfied: typing-extensions>=4.2.0 in /local_disk0/.ephemeral_nfs/envs/pythonEnv-db5dc27b-7ec5-46ab-bde2-db236be79d38/lib/python3.9/site-packages (from SQLAlchemy>=1.4.18->Flask-SQLAlchemy) (4.5.0)\n",
      "Requirement already satisfied: greenlet!=0.4.17 in /local_disk0/.ephemeral_nfs/envs/pythonEnv-db5dc27b-7ec5-46ab-bde2-db236be79d38/lib/python3.9/site-packages (from SQLAlchemy>=1.4.18->Flask-SQLAlchemy) (2.0.2)\n",
      "Python interpreter will be restarted.\n"
     ]
    }
   ],
   "source": [
    "pip install Flask-SQLAlchemy"
   ]
  },
  {
   "cell_type": "code",
   "execution_count": null,
   "metadata": {
    "application/vnd.databricks.v1+cell": {
     "cellMetadata": {
      "byteLimit": 2048000,
      "rowLimit": 10000
     },
     "inputWidgets": {},
     "nuid": "2c1bb671-7979-417f-82c0-4c517c97e035",
     "showTitle": false,
     "title": ""
    }
   },
   "outputs": [
    {
     "data": {
      "application/vnd.databricks.v1+bamboolib_hint": "{\"pd.DataFrames\": [], \"version\": \"0.0.1\"}",
      "text/plain": []
     },
     "metadata": {},
     "output_type": "display_data"
    }
   ],
   "source": [
    "# Import Statements\n",
    "import os\n",
    "import json\n",
    "import numpy\n",
    "import datetime\n",
    "import pandas as pd\n",
    "import pymongo\n",
    "from sqlalchemy import create_engine\n",
    "import pyspark.pandas as pd\n",
    "from pyspark.sql.functions import col\n",
    "from pyspark.sql.types import StructType, StructField, StringType, TimestampType, BinaryType\n",
    "from pyspark.sql.types import ByteType, ShortType, IntegerType, LongType, FloatType, DecimalType"
   ]
  },
  {
   "cell_type": "code",
   "execution_count": null,
   "metadata": {
    "application/vnd.databricks.v1+cell": {
     "cellMetadata": {
      "byteLimit": 2048000,
      "rowLimit": 10000
     },
     "inputWidgets": {},
     "nuid": "960aedac-2eb4-4f51-a7c5-294f3aef670f",
     "showTitle": false,
     "title": ""
    }
   },
   "outputs": [],
   "source": [
    "jdbc_hostname = \"gmf7dpk-mysql.mysql.database.azure.com\"\n",
    "jdbc_port = 3306\n",
    "src_database = \"sakila_dw2\"\n",
    "\n",
    "connection_properties = {\n",
    "  \"user\" : \"gmf7dpk\",\n",
    "  \"password\" : \"Passw0rd321\",\n",
    "  \"driver\" : \"org.mariadb.jdbc.Driver\"\n",
    "}\n",
    "\n",
    "atlas_cluster_name = \"sandbox.zibbf\"\n",
    "atlas_database_name = \"Sakila\"\n",
    "atlas_user_name = \"gmf7dpk\"\n",
    "atlas_password = \"TheUserForGrant\"\n",
    "\n",
    "dst_database = \"sakila_dlh\"\n",
    "base_dir = \"dbfs:/FileStore/ds2002-lab06\"\n",
    "data_dir = f\"{base_dir}/source_data\"\n",
    "batch_dir = f\"{data_dir}/batch\"\n",
    "stream_dir = f\"{data_dir}/stream\"\n",
    "database_dir = f\"{base_dir}/{dst_database}\"\n",
    "new_data_bronze = f\"{database_dir}/fact_new_data/bronze\"\n",
    "new_data_silver = f\"{database_dir}/fact_new_data/silver\"\n",
    "new_data_gold = f\"{database_dir}/fact_new_data/gold\"\n",
    "new_data_stream_dir = f\"{stream_dir}/new_data\"\n"
   ]
  },
  {
   "cell_type": "code",
   "execution_count": null,
   "metadata": {
    "application/vnd.databricks.v1+cell": {
     "cellMetadata": {
      "byteLimit": 2048000,
      "rowLimit": 10000
     },
     "inputWidgets": {},
     "nuid": "fb4fdaa5-9405-45c2-a5d3-eeabf3aea736",
     "showTitle": false,
     "title": ""
    }
   },
   "outputs": [],
   "source": [
    "# Set Up\n",
    "\n",
    "# ######################################################################################################################\n",
    "# Use this Function to Fetch a DataFrame from the MongoDB Atlas database server Using PyMongo.\n",
    "# ######################################################################################################################\n",
    "def get_mongo_dataframe(user_id, pwd, cluster_name, db_name, collection, conditions, projection, sort):\n",
    "    '''Create a client connection to MongoDB'''\n",
    "    mongo_uri = f\"mongodb+srv://{user_id}:{pwd}@{cluster_name}.mongodb.net/{db_name}\"\n",
    "    \n",
    "    client = pymongo.MongoClient(mongo_uri)\n",
    "\n",
    "    '''Query MongoDB, and fill a python list with documents to create a DataFrame'''\n",
    "    db = client[db_name]\n",
    "    if conditions and projection and sort:\n",
    "        dframe = pd.DataFrame(list(db[collection].find(conditions, projection).sort(sort)))\n",
    "    elif conditions and projection and not sort:\n",
    "        dframe = pd.DataFrame(list(db[collection].find(conditions, projection)))\n",
    "    else:\n",
    "        dframe = pd.DataFrame(list(db[collection].find()))\n",
    "\n",
    "    client.close()\n",
    "    \n",
    "    return dframe\n",
    "\n",
    "# ######################################################################################################################\n",
    "# Use this Function to Create New Collections by Uploading JSON file(s) to the MongoDB Atlas server.\n",
    "# ######################################################################################################################\n",
    "def set_mongo_collection(user_id, pwd, cluster_name, db_name, src_file_path, json_files):\n",
    "    '''Create a client connection to MongoDB'''\n",
    "    mongo_uri = f\"mongodb+srv://{user_id}:{pwd}@{cluster_name}.qsabeum.mongodb.net/?retryWrites=true&w=majority\"\n",
    "    client = pymongo.MongoClient(mongo_uri)\n",
    "    db = client[db_name]\n",
    "    \n",
    "    '''Read in a JSON file, and Use It to Create a New Collection'''\n",
    "    for file in json_files:\n",
    "        db.drop_collection(file)\n",
    "        json_file = os.path.join(src_file_path, json_files[file])\n",
    "        with open(json_file, 'r') as openfile:\n",
    "            json_object = json.load(openfile)\n",
    "            file = db[file]\n",
    "            result = file.insert_many(json_object)\n",
    "\n",
    "    client.close()\n",
    "    \n",
    "    return result"
   ]
  },
  {
   "cell_type": "code",
   "execution_count": null,
   "metadata": {
    "application/vnd.databricks.v1+cell": {
     "cellMetadata": {
      "byteLimit": 2048000,
      "implicitDf": true,
      "rowLimit": 10000
     },
     "inputWidgets": {},
     "nuid": "bd33b0e5-6ab0-4dc9-883d-64efaf873f27",
     "showTitle": false,
     "title": ""
    }
   },
   "outputs": [
    {
     "data": {
      "text/html": [
       "<style scoped>\n",
       "  .table-result-container {\n",
       "    max-height: 300px;\n",
       "    overflow: auto;\n",
       "  }\n",
       "  table, th, td {\n",
       "    border: 1px solid black;\n",
       "    border-collapse: collapse;\n",
       "  }\n",
       "  th, td {\n",
       "    padding: 5px;\n",
       "  }\n",
       "  th {\n",
       "    text-align: left;\n",
       "  }\n",
       "</style><div class='table-result-container'><table class='table-result'><thead style='background-color: white'><tr></tr></thead><tbody></tbody></table></div>"
      ]
     },
     "metadata": {
      "application/vnd.databricks.v1+output": {
       "addedWidgets": {},
       "aggData": [],
       "aggError": "",
       "aggOverflow": false,
       "aggSchema": [],
       "aggSeriesLimitReached": false,
       "aggType": "",
       "arguments": {},
       "columnCustomDisplayInfos": {},
       "data": [],
       "datasetInfos": [],
       "dbfsResultPath": null,
       "isJsonSchema": true,
       "metadata": {},
       "overflow": false,
       "plotOptions": {
        "customPlotOptions": {},
        "displayType": "table",
        "pivotAggregation": null,
        "pivotColumns": null,
        "xColumns": null,
        "yColumns": null
       },
       "removedWidgets": [],
       "schema": [],
       "type": "table"
      }
     },
     "output_type": "display_data"
    }
   ],
   "source": [
    "%sql\n",
    "DROP DATABASE IF EXISTS sakila_dlh CASCADE;"
   ]
  },
  {
   "cell_type": "code",
   "execution_count": null,
   "metadata": {
    "application/vnd.databricks.v1+cell": {
     "cellMetadata": {
      "byteLimit": 2048000,
      "implicitDf": true,
      "rowLimit": 10000
     },
     "inputWidgets": {},
     "nuid": "18b12e40-0038-45be-80cf-6051bb633544",
     "showTitle": false,
     "title": ""
    }
   },
   "outputs": [
    {
     "data": {
      "text/html": [
       "<style scoped>\n",
       "  .table-result-container {\n",
       "    max-height: 300px;\n",
       "    overflow: auto;\n",
       "  }\n",
       "  table, th, td {\n",
       "    border: 1px solid black;\n",
       "    border-collapse: collapse;\n",
       "  }\n",
       "  th, td {\n",
       "    padding: 5px;\n",
       "  }\n",
       "  th {\n",
       "    text-align: left;\n",
       "  }\n",
       "</style><div class='table-result-container'><table class='table-result'><thead style='background-color: white'><tr></tr></thead><tbody></tbody></table></div>"
      ]
     },
     "metadata": {
      "application/vnd.databricks.v1+output": {
       "addedWidgets": {},
       "aggData": [],
       "aggError": "",
       "aggOverflow": false,
       "aggSchema": [],
       "aggSeriesLimitReached": false,
       "aggType": "",
       "arguments": {},
       "columnCustomDisplayInfos": {},
       "data": [],
       "datasetInfos": [],
       "dbfsResultPath": null,
       "isJsonSchema": true,
       "metadata": {},
       "overflow": false,
       "plotOptions": {
        "customPlotOptions": {},
        "displayType": "table",
        "pivotAggregation": null,
        "pivotColumns": null,
        "xColumns": null,
        "yColumns": null
       },
       "removedWidgets": [],
       "schema": [],
       "type": "table"
      }
     },
     "output_type": "display_data"
    }
   ],
   "source": [
    "%sql\n",
    "CREATE DATABASE IF NOT EXISTS sakila_dlh\n",
    "COMMENT \"Project 2 Capstone\"\n",
    "LOCATION \"dbfs:/FileStore/project-2-capstone/sakila_dlh\"\n",
    "WITH DBPROPERTIES (contains_pii = true, purpose = \"Project 2 Capstone\");"
   ]
  },
  {
   "cell_type": "code",
   "execution_count": null,
   "metadata": {
    "application/vnd.databricks.v1+cell": {
     "cellMetadata": {
      "byteLimit": 2048000,
      "implicitDf": true,
      "rowLimit": 10000
     },
     "inputWidgets": {},
     "nuid": "3cd2d5e3-07b6-4b1f-b794-4763e9af81ef",
     "showTitle": false,
     "title": ""
    }
   },
   "outputs": [
    {
     "data": {
      "text/html": [
       "<style scoped>\n",
       "  .table-result-container {\n",
       "    max-height: 300px;\n",
       "    overflow: auto;\n",
       "  }\n",
       "  table, th, td {\n",
       "    border: 1px solid black;\n",
       "    border-collapse: collapse;\n",
       "  }\n",
       "  th, td {\n",
       "    padding: 5px;\n",
       "  }\n",
       "  th {\n",
       "    text-align: left;\n",
       "  }\n",
       "</style><div class='table-result-container'><table class='table-result'><thead style='background-color: white'><tr></tr></thead><tbody></tbody></table></div>"
      ]
     },
     "metadata": {
      "application/vnd.databricks.v1+output": {
       "addedWidgets": {},
       "aggData": [],
       "aggError": "",
       "aggOverflow": false,
       "aggSchema": [],
       "aggSeriesLimitReached": false,
       "aggType": "",
       "arguments": {},
       "columnCustomDisplayInfos": {},
       "data": [],
       "datasetInfos": [],
       "dbfsResultPath": null,
       "isJsonSchema": true,
       "metadata": {},
       "overflow": false,
       "plotOptions": {
        "customPlotOptions": {},
        "displayType": "table",
        "pivotAggregation": null,
        "pivotColumns": null,
        "xColumns": null,
        "yColumns": null
       },
       "removedWidgets": [],
       "schema": [],
       "type": "table"
      }
     },
     "output_type": "display_data"
    }
   ],
   "source": [
    "# Retrieving Data from Azure Database for MySQL\n",
    "\n",
    "%sql\n",
    "CREATE OR REPLACE TEMPORARY VIEW view_date\n",
    "USING org.apache.spark.sql.jdbc\n",
    "OPTIONS (\n",
    "  url \"jdbc:mysql://gmf7dpk-mysql.mysql.database.azure.com:3306/sakila_dw2\",\n",
    "  dbtable \"dim_date\",\n",
    "  user \"gmf7dpk\",\n",
    "  password \"Passw0rd321\"\n",
    ")\n"
   ]
  },
  {
   "cell_type": "code",
   "execution_count": null,
   "metadata": {
    "application/vnd.databricks.v1+cell": {
     "cellMetadata": {
      "byteLimit": 2048000,
      "implicitDf": true,
      "rowLimit": 10000
     },
     "inputWidgets": {},
     "nuid": "335147f0-787a-4239-80fc-ced9253e69e1",
     "showTitle": false,
     "title": ""
    }
   },
   "outputs": [
    {
     "data": {
      "text/html": [
       "<style scoped>\n",
       "  .table-result-container {\n",
       "    max-height: 300px;\n",
       "    overflow: auto;\n",
       "  }\n",
       "  table, th, td {\n",
       "    border: 1px solid black;\n",
       "    border-collapse: collapse;\n",
       "  }\n",
       "  th, td {\n",
       "    padding: 5px;\n",
       "  }\n",
       "  th {\n",
       "    text-align: left;\n",
       "  }\n",
       "</style><div class='table-result-container'><table class='table-result'><thead style='background-color: white'><tr><th>num_affected_rows</th><th>num_inserted_rows</th></tr></thead><tbody></tbody></table></div>"
      ]
     },
     "metadata": {
      "application/vnd.databricks.v1+output": {
       "addedWidgets": {},
       "aggData": [],
       "aggError": "",
       "aggOverflow": false,
       "aggSchema": [],
       "aggSeriesLimitReached": false,
       "aggType": "",
       "arguments": {},
       "columnCustomDisplayInfos": {},
       "data": [],
       "datasetInfos": [],
       "dbfsResultPath": null,
       "isJsonSchema": true,
       "metadata": {},
       "overflow": false,
       "plotOptions": {
        "customPlotOptions": {},
        "displayType": "table",
        "pivotAggregation": null,
        "pivotColumns": null,
        "xColumns": null,
        "yColumns": null
       },
       "removedWidgets": [],
       "schema": [
        {
         "metadata": "{}",
         "name": "num_affected_rows",
         "type": "\"long\""
        },
        {
         "metadata": "{}",
         "name": "num_inserted_rows",
         "type": "\"long\""
        }
       ],
       "type": "table"
      }
     },
     "output_type": "display_data"
    }
   ],
   "source": [
    "%sql\n",
    "USE DATABASE sakila_dlh;\n",
    "\n",
    "CREATE OR REPLACE TABLE sakila_dlh.dim_date\n",
    "COMMENT \"Date Dimension Table\"\n",
    "LOCATION \"dbfs:/FileStore/project-2-capstone/sakila_dlh/dim_date\"\n",
    "AS SELECT * FROM view_date"
   ]
  },
  {
   "cell_type": "code",
   "execution_count": null,
   "metadata": {
    "application/vnd.databricks.v1+cell": {
     "cellMetadata": {
      "byteLimit": 2048000,
      "implicitDf": true,
      "rowLimit": 10000
     },
     "inputWidgets": {},
     "nuid": "00adac70-2932-4c17-8533-51c298f3bba0",
     "showTitle": false,
     "title": ""
    }
   },
   "outputs": [
    {
     "data": {
      "text/html": [
       "<style scoped>\n",
       "  .table-result-container {\n",
       "    max-height: 300px;\n",
       "    overflow: auto;\n",
       "  }\n",
       "  table, th, td {\n",
       "    border: 1px solid black;\n",
       "    border-collapse: collapse;\n",
       "  }\n",
       "  th, td {\n",
       "    padding: 5px;\n",
       "  }\n",
       "  th {\n",
       "    text-align: left;\n",
       "  }\n",
       "</style><div class='table-result-container'><table class='table-result'><thead style='background-color: white'><tr><th>date_key</th><th>full_date</th><th>date_name</th><th>date_name_us</th><th>date_name_eu</th><th>day_of_week</th><th>day_name_of_week</th><th>day_of_month</th><th>day_of_year</th><th>weekday_weekend</th><th>week_of_year</th><th>month_name</th><th>month_of_year</th><th>is_last_day_of_month</th><th>calendar_quarter</th><th>calendar_year</th><th>calendar_year_month</th><th>calendar_year_qtr</th><th>fiscal_month_of_year</th><th>fiscal_quarter</th><th>fiscal_year</th><th>fiscal_year_month</th><th>fiscal_year_qtr</th></tr></thead><tbody><tr><td>20050101</td><td>2005-01-01</td><td>2005/01/01</td><td>01/01/2005</td><td>01/01/2005</td><td>7</td><td>Saturday</td><td>1</td><td>1</td><td>Weekend</td><td>53</td><td>January</td><td>1</td><td>N</td><td>1</td><td>2005</td><td>2005-01</td><td>2005Q1</td><td>7</td><td>3</td><td>2005</td><td>2005-07</td><td>2005Q3</td></tr><tr><td>20050102</td><td>2005-01-02</td><td>2005/01/02</td><td>01/02/2005</td><td>02/01/2005</td><td>1</td><td>Sunday</td><td>2</td><td>2</td><td>Weekend</td><td>53</td><td>January</td><td>1</td><td>N</td><td>1</td><td>2005</td><td>2005-01</td><td>2005Q1</td><td>7</td><td>3</td><td>2005</td><td>2005-07</td><td>2005Q3</td></tr><tr><td>20050103</td><td>2005-01-03</td><td>2005/01/03</td><td>01/03/2005</td><td>03/01/2005</td><td>2</td><td>Monday</td><td>3</td><td>3</td><td>Weekday</td><td>1</td><td>January</td><td>1</td><td>N</td><td>1</td><td>2005</td><td>2005-01</td><td>2005Q1</td><td>7</td><td>3</td><td>2005</td><td>2005-07</td><td>2005Q3</td></tr><tr><td>20050104</td><td>2005-01-04</td><td>2005/01/04</td><td>01/04/2005</td><td>04/01/2005</td><td>3</td><td>Tuesday</td><td>4</td><td>4</td><td>Weekday</td><td>1</td><td>January</td><td>1</td><td>N</td><td>1</td><td>2005</td><td>2005-01</td><td>2005Q1</td><td>7</td><td>3</td><td>2005</td><td>2005-07</td><td>2005Q3</td></tr><tr><td>20050105</td><td>2005-01-05</td><td>2005/01/05</td><td>01/05/2005</td><td>05/01/2005</td><td>4</td><td>Wednesday</td><td>5</td><td>5</td><td>Weekday</td><td>1</td><td>January</td><td>1</td><td>N</td><td>1</td><td>2005</td><td>2005-01</td><td>2005Q1</td><td>7</td><td>3</td><td>2005</td><td>2005-07</td><td>2005Q3</td></tr></tbody></table></div>"
      ]
     },
     "metadata": {
      "application/vnd.databricks.v1+output": {
       "addedWidgets": {},
       "aggData": [],
       "aggError": "",
       "aggOverflow": false,
       "aggSchema": [],
       "aggSeriesLimitReached": false,
       "aggType": "",
       "arguments": {},
       "columnCustomDisplayInfos": {},
       "data": [
        [
         20050101,
         "2005-01-01",
         "2005/01/01",
         "01/01/2005",
         "01/01/2005",
         7,
         "Saturday",
         1,
         1,
         "Weekend",
         53,
         "January",
         1,
         "N",
         1,
         2005,
         "2005-01",
         "2005Q1",
         7,
         3,
         2005,
         "2005-07",
         "2005Q3"
        ],
        [
         20050102,
         "2005-01-02",
         "2005/01/02",
         "01/02/2005",
         "02/01/2005",
         1,
         "Sunday",
         2,
         2,
         "Weekend",
         53,
         "January",
         1,
         "N",
         1,
         2005,
         "2005-01",
         "2005Q1",
         7,
         3,
         2005,
         "2005-07",
         "2005Q3"
        ],
        [
         20050103,
         "2005-01-03",
         "2005/01/03",
         "01/03/2005",
         "03/01/2005",
         2,
         "Monday",
         3,
         3,
         "Weekday",
         1,
         "January",
         1,
         "N",
         1,
         2005,
         "2005-01",
         "2005Q1",
         7,
         3,
         2005,
         "2005-07",
         "2005Q3"
        ],
        [
         20050104,
         "2005-01-04",
         "2005/01/04",
         "01/04/2005",
         "04/01/2005",
         3,
         "Tuesday",
         4,
         4,
         "Weekday",
         1,
         "January",
         1,
         "N",
         1,
         2005,
         "2005-01",
         "2005Q1",
         7,
         3,
         2005,
         "2005-07",
         "2005Q3"
        ],
        [
         20050105,
         "2005-01-05",
         "2005/01/05",
         "01/05/2005",
         "05/01/2005",
         4,
         "Wednesday",
         5,
         5,
         "Weekday",
         1,
         "January",
         1,
         "N",
         1,
         2005,
         "2005-01",
         "2005Q1",
         7,
         3,
         2005,
         "2005-07",
         "2005Q3"
        ]
       ],
       "datasetInfos": [],
       "dbfsResultPath": null,
       "isJsonSchema": true,
       "metadata": {},
       "overflow": false,
       "plotOptions": {
        "customPlotOptions": {},
        "displayType": "table",
        "pivotAggregation": null,
        "pivotColumns": null,
        "xColumns": null,
        "yColumns": null
       },
       "removedWidgets": [],
       "schema": [
        {
         "metadata": "{\"scale\":0}",
         "name": "date_key",
         "type": "\"integer\""
        },
        {
         "metadata": "{\"scale\":0}",
         "name": "full_date",
         "type": "\"date\""
        },
        {
         "metadata": "{\"scale\":0}",
         "name": "date_name",
         "type": "\"string\""
        },
        {
         "metadata": "{\"scale\":0}",
         "name": "date_name_us",
         "type": "\"string\""
        },
        {
         "metadata": "{\"scale\":0}",
         "name": "date_name_eu",
         "type": "\"string\""
        },
        {
         "metadata": "{\"scale\":0}",
         "name": "day_of_week",
         "type": "\"integer\""
        },
        {
         "metadata": "{\"scale\":0}",
         "name": "day_name_of_week",
         "type": "\"string\""
        },
        {
         "metadata": "{\"scale\":0}",
         "name": "day_of_month",
         "type": "\"integer\""
        },
        {
         "metadata": "{\"scale\":0}",
         "name": "day_of_year",
         "type": "\"integer\""
        },
        {
         "metadata": "{\"scale\":0}",
         "name": "weekday_weekend",
         "type": "\"string\""
        },
        {
         "metadata": "{\"scale\":0}",
         "name": "week_of_year",
         "type": "\"integer\""
        },
        {
         "metadata": "{\"scale\":0}",
         "name": "month_name",
         "type": "\"string\""
        },
        {
         "metadata": "{\"scale\":0}",
         "name": "month_of_year",
         "type": "\"integer\""
        },
        {
         "metadata": "{\"scale\":0}",
         "name": "is_last_day_of_month",
         "type": "\"string\""
        },
        {
         "metadata": "{\"scale\":0}",
         "name": "calendar_quarter",
         "type": "\"integer\""
        },
        {
         "metadata": "{\"scale\":0}",
         "name": "calendar_year",
         "type": "\"integer\""
        },
        {
         "metadata": "{\"scale\":0}",
         "name": "calendar_year_month",
         "type": "\"string\""
        },
        {
         "metadata": "{\"scale\":0}",
         "name": "calendar_year_qtr",
         "type": "\"string\""
        },
        {
         "metadata": "{\"scale\":0}",
         "name": "fiscal_month_of_year",
         "type": "\"integer\""
        },
        {
         "metadata": "{\"scale\":0}",
         "name": "fiscal_quarter",
         "type": "\"integer\""
        },
        {
         "metadata": "{\"scale\":0}",
         "name": "fiscal_year",
         "type": "\"integer\""
        },
        {
         "metadata": "{\"scale\":0}",
         "name": "fiscal_year_month",
         "type": "\"string\""
        },
        {
         "metadata": "{\"scale\":0}",
         "name": "fiscal_year_qtr",
         "type": "\"string\""
        }
       ],
       "type": "table"
      }
     },
     "output_type": "display_data"
    }
   ],
   "source": [
    "%sql\n",
    "SELECT * FROM sakila_dlh.dim_date LIMIT 5"
   ]
  },
  {
   "cell_type": "code",
   "execution_count": null,
   "metadata": {
    "application/vnd.databricks.v1+cell": {
     "cellMetadata": {
      "byteLimit": 2048000,
      "rowLimit": 10000
     },
     "inputWidgets": {},
     "nuid": "ae3b9f56-2d51-4acc-b23d-913c24f4b92b",
     "showTitle": false,
     "title": ""
    }
   },
   "outputs": [
    {
     "data": {
      "text/html": [
       "<style scoped>\n",
       "  .table-result-container {\n",
       "    max-height: 300px;\n",
       "    overflow: auto;\n",
       "  }\n",
       "  table, th, td {\n",
       "    border: 1px solid black;\n",
       "    border-collapse: collapse;\n",
       "  }\n",
       "  th, td {\n",
       "    padding: 5px;\n",
       "  }\n",
       "  th {\n",
       "    text-align: left;\n",
       "  }\n",
       "</style><div class='table-result-container'><table class='table-result'><thead style='background-color: white'><tr><th>Title</th><th>Year</th><th>Rated</th><th>Released</th><th>Runtime</th><th>Genre</th><th>Director</th><th>Writer</th><th>Actors</th><th>Plot</th><th>Language</th><th>Country</th><th>Awards</th><th>Poster</th><th>Metascore</th><th>imdbRating</th><th>imdbVotes</th><th>imdbID</th><th>Type</th><th>Response</th></tr></thead><tbody><tr><td>Avatar</td><td>2009</td><td>PG-13</td><td>18 Dec 2009</td><td>162 min</td><td>Action, Adventure, Fantasy</td><td>James Cameron</td><td>James Cameron</td><td>Sam Worthington, Zoe Saldana, Sigourney Weaver, Stephen Lang</td><td>A paraplegic marine dispatched to the moon Pandora on a unique mission becomes torn between following his orders and protecting the world he feels is his home.</td><td>English, Spanish</td><td>USA, UK</td><td>Won 3 Oscars. Another 80 wins & 121 nominations.</td><td>http://ia.media-imdb.com/images/M/MV5BMTYwOTEwNjAzMl5BMl5BanBnXkFtZTcwODc5MTUwMw@@._V1_SX300.jpg</td><td>83</td><td>7.9</td><td>890,617</td><td>tt0499549</td><td>movie</td><td>True</td></tr><tr><td>I Am Legend</td><td>2007</td><td>PG-13</td><td>14 Dec 2007</td><td>101 min</td><td>Drama, Horror, Sci-Fi</td><td>Francis Lawrence</td><td>Mark Protosevich (screenplay), Akiva Goldsman (screenplay), Richard Matheson (novel), John William Corrington, Joyce Hooper Corrington</td><td>Will Smith, Alice Braga, Charlie Tahan, Salli Richardson-Whitfield</td><td>Years after a plague kills most of humanity and transforms the rest into monsters, the sole survivor in New York City struggles valiantly to find a cure.</td><td>English</td><td>USA</td><td>9 wins & 21 nominations.</td><td>http://ia.media-imdb.com/images/M/MV5BMTU4NzMyNDk1OV5BMl5BanBnXkFtZTcwOTEwMzU1MQ@@._V1_SX300.jpg</td><td>65</td><td>7.2</td><td>533,874</td><td>tt0480249</td><td>movie</td><td>True</td></tr><tr><td>The Avengers</td><td>2012</td><td>PG-13</td><td>04 May 2012</td><td>143 min</td><td>Action, Sci-Fi, Thriller</td><td>Joss Whedon</td><td>Joss Whedon (screenplay), Zak Penn (story), Joss Whedon (story)</td><td>Robert Downey Jr., Chris Evans, Mark Ruffalo, Chris Hemsworth</td><td>Earth's mightiest heroes must come together and learn to fight as a team if they are to stop the mischievous Loki and his alien army from enslaving humanity.</td><td>English, Russian</td><td>USA</td><td>Nominated for 1 Oscar. Another 34 wins & 75 nominations.</td><td>http://ia.media-imdb.com/images/M/MV5BMTk2NTI1MTU4N15BMl5BanBnXkFtZTcwODg0OTY0Nw@@._V1_SX300.jpg</td><td>69</td><td>8.1</td><td>1,003,301</td><td>tt0848228</td><td>movie</td><td>True</td></tr><tr><td>The Wolf of Wall Street</td><td>2013</td><td>R</td><td>25 Dec 2013</td><td>180 min</td><td>Biography, Comedy, Crime</td><td>Martin Scorsese</td><td>Terence Winter (screenplay), Jordan Belfort (book)</td><td>Leonardo DiCaprio, Jonah Hill, Margot Robbie, Matthew McConaughey</td><td>Based on the true story of Jordan Belfort, from his rise to a wealthy stock-broker living the high life to his fall involving crime, corruption and the federal government.</td><td>English, French</td><td>USA</td><td>Nominated for 5 Oscars. Another 35 wins & 154 nominations.</td><td>http://ia.media-imdb.com/images/M/MV5BMjIxMjgxNTk0MF5BMl5BanBnXkFtZTgwNjIyOTg2MDE@._V1_SX300.jpg</td><td>75</td><td>8.2</td><td>786,985</td><td>tt0993846</td><td>movie</td><td>True</td></tr><tr><td>Interstellar</td><td>2014</td><td>PG-13</td><td>07 Nov 2014</td><td>169 min</td><td>Adventure, Drama, Sci-Fi</td><td>Christopher Nolan</td><td>Jonathan Nolan, Christopher Nolan</td><td>Ellen Burstyn, Matthew McConaughey, Mackenzie Foy, John Lithgow</td><td>A team of explorers travel through a wormhole in space in an attempt to ensure humanity's survival.</td><td>English</td><td>USA, UK</td><td>Won 1 Oscar. Another 39 wins & 134 nominations.</td><td>http://ia.media-imdb.com/images/M/MV5BMjIxNTU4MzY4MF5BMl5BanBnXkFtZTgwMzM4ODI3MjE@._V1_SX300.jpg</td><td>74</td><td>8.6</td><td>937,412</td><td>tt0816692</td><td>movie</td><td>True</td></tr><tr><td>Game of Thrones</td><td>2011–</td><td>TV-MA</td><td>17 Apr 2011</td><td>56 min</td><td>Adventure, Drama, Fantasy</td><td>N/A</td><td>David Benioff, D.B. Weiss</td><td>Peter Dinklage, Lena Headey, Emilia Clarke, Kit Harington</td><td>While a civil war brews between several noble families in Westeros, the children of the former rulers of the land attempt to rise up to power. Meanwhile a forgotten race, bent on destruction, plans to return after thousands of years in the North.</td><td>English</td><td>USA, UK</td><td>Won 1 Golden Globe. Another 185 wins & 334 nominations.</td><td>http://ia.media-imdb.com/images/M/MV5BMjM5OTQ1MTY5Nl5BMl5BanBnXkFtZTgwMjM3NzMxODE@._V1_SX300.jpg</td><td>N/A</td><td>9.5</td><td>1,046,830</td><td>tt0944947</td><td>series</td><td>True</td></tr><tr><td>Vikings</td><td>2013–</td><td>TV-14</td><td>03 Mar 2013</td><td>44 min</td><td>Action, Drama, History</td><td>N/A</td><td>Michael Hirst</td><td>Travis Fimmel, Clive Standen, Gustaf Skarsgård, Katheryn Winnick</td><td>The world of the Vikings is brought to life through the journey of Ragnar Lothbrok, the first Viking to emerge from Norse legend and onto the pages of history - a man on the edge of myth.</td><td>English, Old English, Norse, Old, Latin</td><td>Ireland, Canada</td><td>Nominated for 7 Primetime Emmys. Another 17 wins & 49 nominations.</td><td>http://ia.media-imdb.com/images/M/MV5BOTEzNzI3MDc0N15BMl5BanBnXkFtZTgwMzk1MzA5NzE@._V1_SX300.jpg</td><td>N/A</td><td>8.6</td><td>198,041</td><td>tt2306299</td><td>series</td><td>True</td></tr><tr><td>Gotham</td><td>2014–</td><td>TV-14</td><td>01 Aug 2014</td><td>42 min</td><td>Action, Crime, Drama</td><td>N/A</td><td>Bruno Heller</td><td>Ben McKenzie, Donal Logue, David Mazouz, Sean Pertwee</td><td>The story behind Detective James Gordon's rise to prominence in Gotham City in the years before Batman's arrival.</td><td>English</td><td>USA</td><td>Nominated for 4 Primetime Emmys. Another 3 wins & 22 nominations.</td><td>http://ia.media-imdb.com/images/M/MV5BMTY2MjMwNDE4OV5BMl5BanBnXkFtZTgwNjI1NjU0OTE@._V1_SX300.jpg</td><td>N/A</td><td>8.0</td><td>133,375</td><td>tt3749900</td><td>series</td><td>True</td></tr><tr><td>Power</td><td>2014–</td><td>TV-MA</td><td>N/A</td><td>50 min</td><td>Crime, Drama</td><td>N/A</td><td>Courtney Kemp Agboh</td><td>Omari Hardwick, Joseph Sikora, Andy Bean, Lela Loren</td><td>James \"Ghost\" St. Patrick, a wealthy New York night club owner who has it all, catering for the city's elite and dreaming big, lives a double life as a drug kingpin.</td><td>English</td><td>USA</td><td>1 win & 6 nominations.</td><td>http://ia.media-imdb.com/images/M/MV5BOTA4NTkzMjUzOF5BMl5BanBnXkFtZTgwNzg5ODkxOTE@._V1_SX300.jpg</td><td>N/A</td><td>8.0</td><td>14,770</td><td>tt3281796</td><td>series</td><td>True</td></tr><tr><td>Narcos</td><td>2015–</td><td>TV-MA</td><td>28 Aug 2015</td><td>49 min</td><td>Biography, Crime, Drama</td><td>N/A</td><td>Carlo Bernard, Chris Brancato, Doug Miro, Paul Eckstein</td><td>Wagner Moura, Boyd Holbrook, Pedro Pascal, Joanna Christie</td><td>A chronicled look at the criminal exploits of Colombian drug lord Pablo Escobar.</td><td>English, Spanish</td><td>USA</td><td>Nominated for 2 Golden Globes. Another 4 nominations.</td><td>http://ia.media-imdb.com/images/M/MV5BMTU0ODQ4NDg2OF5BMl5BanBnXkFtZTgwNzczNTE4OTE@._V1_SX300.jpg</td><td>N/A</td><td>8.9</td><td>118,680</td><td>tt2707408</td><td>series</td><td>True</td></tr><tr><td>Breaking Bad</td><td>2008–2013</td><td>TV-14</td><td>20 Jan 2008</td><td>49 min</td><td>Crime, Drama, Thriller</td><td>N/A</td><td>Vince Gilligan</td><td>Bryan Cranston, Anna Gunn, Aaron Paul, Dean Norris</td><td>A high school chemistry teacher diagnosed with inoperable lung cancer turns to manufacturing and selling methamphetamine in order to secure his family's financial future.</td><td>English, Spanish</td><td>USA</td><td>Won 2 Golden Globes. Another 132 wins & 218 nominations.</td><td>http://ia.media-imdb.com/images/M/MV5BMTQ0ODYzODc0OV5BMl5BanBnXkFtZTgwMDk3OTcyMDE@._V1_SX300.jpg</td><td>N/A</td><td>9.5</td><td>889,883</td><td>tt0903747</td><td>series</td><td>True</td></tr><tr><td>Doctor Strange</td><td>2016</td><td>N/A</td><td>04 Nov 2016</td><td>N/A</td><td>Action, Adventure, Fantasy</td><td>Scott Derrickson</td><td>Scott Derrickson (screenplay), C. Robert Cargill (screenplay), Jon Spaihts (story by), Scott Derrickson (story by), C. Robert Cargill (story by), Steve Ditko (comic book)</td><td>Rachel McAdams, Benedict Cumberbatch, Mads Mikkelsen, Tilda Swinton</td><td>After his career is destroyed, a brilliant but arrogant and conceited surgeon gets a new lease on life when a sorcerer takes him under her wing and trains him to defend the world against evil.</td><td>English</td><td>USA</td><td>N/A</td><td>http://ia.media-imdb.com/images/M/MV5BNjgwNzAzNjk1Nl5BMl5BanBnXkFtZTgwMzQ2NjI1OTE@._V1_SX300.jpg</td><td>N/A</td><td>N/A</td><td>N/A</td><td>tt1211837</td><td>movie</td><td>True</td></tr><tr><td>Rogue One: A Star Wars Story</td><td>2016</td><td>N/A</td><td>16 Dec 2016</td><td>N/A</td><td>Action, Adventure, Sci-Fi</td><td>Gareth Edwards</td><td>Chris Weitz (screenplay), Tony Gilroy (screenplay), John Knoll (story), Gary Whitta (story), George Lucas (characters)</td><td>Felicity Jones, Riz Ahmed, Mads Mikkelsen, Ben Mendelsohn</td><td>The Rebellion makes a risky move to steal the plans to the Death Star, setting up the epic saga to follow.</td><td>English</td><td>USA</td><td>1 nomination.</td><td>https://images-na.ssl-images-amazon.com/images/M/MV5BMjQyMzI2OTA3OF5BMl5BanBnXkFtZTgwNDg5NjQ0OTE@._V1_SY1000_CR0,0,674,1000_AL_.jpg</td><td>N/A</td><td>N/A</td><td>N/A</td><td>tt3748528</td><td>movie</td><td>True</td></tr><tr><td>Assassin's Creed</td><td>2016</td><td>N/A</td><td>21 Dec 2016</td><td>N/A</td><td>Action, Adventure, Fantasy</td><td>Justin Kurzel</td><td>Bill Collage (screenplay), Adam Cooper (screenplay), Michael Lesslie (screenplay)</td><td>Michael Fassbender, Michael Kenneth Williams, Marion Cotillard, Jeremy Irons</td><td>When Callum Lynch explores the memories of his ancestor Aguilar and gains the skills of a Master Assassin, he discovers he is a descendant of the secret Assassins society.</td><td>English</td><td>UK, France, USA, Hong Kong</td><td>N/A</td><td>http://ia.media-imdb.com/images/M/MV5BMTU2MTQwMjU1OF5BMl5BanBnXkFtZTgwMDA5NjU5ODE@._V1_SX300.jpg</td><td>N/A</td><td>N/A</td><td>N/A</td><td>tt2094766</td><td>movie</td><td>True</td></tr><tr><td>Luke Cage</td><td>2016–</td><td>TV-MA</td><td>30 Sep 2016</td><td>55 min</td><td>Action, Crime, Drama</td><td>N/A</td><td>Cheo Hodari Coker</td><td>Mahershala Ali, Mike Colter, Frankie Faison, Erik LaRay Harvey</td><td>Given superstrength and durability by a sabotaged experiment, a wrongly accused man escapes prison to become a superhero for hire.</td><td>English</td><td>USA</td><td>N/A</td><td>http://ia.media-imdb.com/images/M/MV5BMTcyMzc1MjI5MF5BMl5BanBnXkFtZTgwMzE4ODY2OTE@._V1_SX300.jpg</td><td>N/A</td><td>N/A</td><td>N/A</td><td>tt3322314</td><td>series</td><td>True</td></tr></tbody></table></div>"
      ]
     },
     "metadata": {
      "application/vnd.databricks.v1+output": {
       "addedWidgets": {},
       "aggData": [],
       "aggError": "",
       "aggOverflow": false,
       "aggSchema": [],
       "aggSeriesLimitReached": false,
       "aggType": "",
       "arguments": {},
       "columnCustomDisplayInfos": {},
       "data": [
        [
         "Avatar",
         "2009",
         "PG-13",
         "18 Dec 2009",
         "162 min",
         "Action, Adventure, Fantasy",
         "James Cameron",
         "James Cameron",
         "Sam Worthington, Zoe Saldana, Sigourney Weaver, Stephen Lang",
         "A paraplegic marine dispatched to the moon Pandora on a unique mission becomes torn between following his orders and protecting the world he feels is his home.",
         "English, Spanish",
         "USA, UK",
         "Won 3 Oscars. Another 80 wins & 121 nominations.",
         "http://ia.media-imdb.com/images/M/MV5BMTYwOTEwNjAzMl5BMl5BanBnXkFtZTcwODc5MTUwMw@@._V1_SX300.jpg",
         "83",
         "7.9",
         "890,617",
         "tt0499549",
         "movie",
         "True"
        ],
        [
         "I Am Legend",
         "2007",
         "PG-13",
         "14 Dec 2007",
         "101 min",
         "Drama, Horror, Sci-Fi",
         "Francis Lawrence",
         "Mark Protosevich (screenplay), Akiva Goldsman (screenplay), Richard Matheson (novel), John William Corrington, Joyce Hooper Corrington",
         "Will Smith, Alice Braga, Charlie Tahan, Salli Richardson-Whitfield",
         "Years after a plague kills most of humanity and transforms the rest into monsters, the sole survivor in New York City struggles valiantly to find a cure.",
         "English",
         "USA",
         "9 wins & 21 nominations.",
         "http://ia.media-imdb.com/images/M/MV5BMTU4NzMyNDk1OV5BMl5BanBnXkFtZTcwOTEwMzU1MQ@@._V1_SX300.jpg",
         "65",
         "7.2",
         "533,874",
         "tt0480249",
         "movie",
         "True"
        ],
        [
         "The Avengers",
         "2012",
         "PG-13",
         "04 May 2012",
         "143 min",
         "Action, Sci-Fi, Thriller",
         "Joss Whedon",
         "Joss Whedon (screenplay), Zak Penn (story), Joss Whedon (story)",
         "Robert Downey Jr., Chris Evans, Mark Ruffalo, Chris Hemsworth",
         "Earth's mightiest heroes must come together and learn to fight as a team if they are to stop the mischievous Loki and his alien army from enslaving humanity.",
         "English, Russian",
         "USA",
         "Nominated for 1 Oscar. Another 34 wins & 75 nominations.",
         "http://ia.media-imdb.com/images/M/MV5BMTk2NTI1MTU4N15BMl5BanBnXkFtZTcwODg0OTY0Nw@@._V1_SX300.jpg",
         "69",
         "8.1",
         "1,003,301",
         "tt0848228",
         "movie",
         "True"
        ],
        [
         "The Wolf of Wall Street",
         "2013",
         "R",
         "25 Dec 2013",
         "180 min",
         "Biography, Comedy, Crime",
         "Martin Scorsese",
         "Terence Winter (screenplay), Jordan Belfort (book)",
         "Leonardo DiCaprio, Jonah Hill, Margot Robbie, Matthew McConaughey",
         "Based on the true story of Jordan Belfort, from his rise to a wealthy stock-broker living the high life to his fall involving crime, corruption and the federal government.",
         "English, French",
         "USA",
         "Nominated for 5 Oscars. Another 35 wins & 154 nominations.",
         "http://ia.media-imdb.com/images/M/MV5BMjIxMjgxNTk0MF5BMl5BanBnXkFtZTgwNjIyOTg2MDE@._V1_SX300.jpg",
         "75",
         "8.2",
         "786,985",
         "tt0993846",
         "movie",
         "True"
        ],
        [
         "Interstellar",
         "2014",
         "PG-13",
         "07 Nov 2014",
         "169 min",
         "Adventure, Drama, Sci-Fi",
         "Christopher Nolan",
         "Jonathan Nolan, Christopher Nolan",
         "Ellen Burstyn, Matthew McConaughey, Mackenzie Foy, John Lithgow",
         "A team of explorers travel through a wormhole in space in an attempt to ensure humanity's survival.",
         "English",
         "USA, UK",
         "Won 1 Oscar. Another 39 wins & 134 nominations.",
         "http://ia.media-imdb.com/images/M/MV5BMjIxNTU4MzY4MF5BMl5BanBnXkFtZTgwMzM4ODI3MjE@._V1_SX300.jpg",
         "74",
         "8.6",
         "937,412",
         "tt0816692",
         "movie",
         "True"
        ],
        [
         "Game of Thrones",
         "2011–",
         "TV-MA",
         "17 Apr 2011",
         "56 min",
         "Adventure, Drama, Fantasy",
         "N/A",
         "David Benioff, D.B. Weiss",
         "Peter Dinklage, Lena Headey, Emilia Clarke, Kit Harington",
         "While a civil war brews between several noble families in Westeros, the children of the former rulers of the land attempt to rise up to power. Meanwhile a forgotten race, bent on destruction, plans to return after thousands of years in the North.",
         "English",
         "USA, UK",
         "Won 1 Golden Globe. Another 185 wins & 334 nominations.",
         "http://ia.media-imdb.com/images/M/MV5BMjM5OTQ1MTY5Nl5BMl5BanBnXkFtZTgwMjM3NzMxODE@._V1_SX300.jpg",
         "N/A",
         "9.5",
         "1,046,830",
         "tt0944947",
         "series",
         "True"
        ],
        [
         "Vikings",
         "2013–",
         "TV-14",
         "03 Mar 2013",
         "44 min",
         "Action, Drama, History",
         "N/A",
         "Michael Hirst",
         "Travis Fimmel, Clive Standen, Gustaf Skarsgård, Katheryn Winnick",
         "The world of the Vikings is brought to life through the journey of Ragnar Lothbrok, the first Viking to emerge from Norse legend and onto the pages of history - a man on the edge of myth.",
         "English, Old English, Norse, Old, Latin",
         "Ireland, Canada",
         "Nominated for 7 Primetime Emmys. Another 17 wins & 49 nominations.",
         "http://ia.media-imdb.com/images/M/MV5BOTEzNzI3MDc0N15BMl5BanBnXkFtZTgwMzk1MzA5NzE@._V1_SX300.jpg",
         "N/A",
         "8.6",
         "198,041",
         "tt2306299",
         "series",
         "True"
        ],
        [
         "Gotham",
         "2014–",
         "TV-14",
         "01 Aug 2014",
         "42 min",
         "Action, Crime, Drama",
         "N/A",
         "Bruno Heller",
         "Ben McKenzie, Donal Logue, David Mazouz, Sean Pertwee",
         "The story behind Detective James Gordon's rise to prominence in Gotham City in the years before Batman's arrival.",
         "English",
         "USA",
         "Nominated for 4 Primetime Emmys. Another 3 wins & 22 nominations.",
         "http://ia.media-imdb.com/images/M/MV5BMTY2MjMwNDE4OV5BMl5BanBnXkFtZTgwNjI1NjU0OTE@._V1_SX300.jpg",
         "N/A",
         "8.0",
         "133,375",
         "tt3749900",
         "series",
         "True"
        ],
        [
         "Power",
         "2014–",
         "TV-MA",
         "N/A",
         "50 min",
         "Crime, Drama",
         "N/A",
         "Courtney Kemp Agboh",
         "Omari Hardwick, Joseph Sikora, Andy Bean, Lela Loren",
         "James \"Ghost\" St. Patrick, a wealthy New York night club owner who has it all, catering for the city's elite and dreaming big, lives a double life as a drug kingpin.",
         "English",
         "USA",
         "1 win & 6 nominations.",
         "http://ia.media-imdb.com/images/M/MV5BOTA4NTkzMjUzOF5BMl5BanBnXkFtZTgwNzg5ODkxOTE@._V1_SX300.jpg",
         "N/A",
         "8.0",
         "14,770",
         "tt3281796",
         "series",
         "True"
        ],
        [
         "Narcos",
         "2015–",
         "TV-MA",
         "28 Aug 2015",
         "49 min",
         "Biography, Crime, Drama",
         "N/A",
         "Carlo Bernard, Chris Brancato, Doug Miro, Paul Eckstein",
         "Wagner Moura, Boyd Holbrook, Pedro Pascal, Joanna Christie",
         "A chronicled look at the criminal exploits of Colombian drug lord Pablo Escobar.",
         "English, Spanish",
         "USA",
         "Nominated for 2 Golden Globes. Another 4 nominations.",
         "http://ia.media-imdb.com/images/M/MV5BMTU0ODQ4NDg2OF5BMl5BanBnXkFtZTgwNzczNTE4OTE@._V1_SX300.jpg",
         "N/A",
         "8.9",
         "118,680",
         "tt2707408",
         "series",
         "True"
        ],
        [
         "Breaking Bad",
         "2008–2013",
         "TV-14",
         "20 Jan 2008",
         "49 min",
         "Crime, Drama, Thriller",
         "N/A",
         "Vince Gilligan",
         "Bryan Cranston, Anna Gunn, Aaron Paul, Dean Norris",
         "A high school chemistry teacher diagnosed with inoperable lung cancer turns to manufacturing and selling methamphetamine in order to secure his family's financial future.",
         "English, Spanish",
         "USA",
         "Won 2 Golden Globes. Another 132 wins & 218 nominations.",
         "http://ia.media-imdb.com/images/M/MV5BMTQ0ODYzODc0OV5BMl5BanBnXkFtZTgwMDk3OTcyMDE@._V1_SX300.jpg",
         "N/A",
         "9.5",
         "889,883",
         "tt0903747",
         "series",
         "True"
        ],
        [
         "Doctor Strange",
         "2016",
         "N/A",
         "04 Nov 2016",
         "N/A",
         "Action, Adventure, Fantasy",
         "Scott Derrickson",
         "Scott Derrickson (screenplay), C. Robert Cargill (screenplay), Jon Spaihts (story by), Scott Derrickson (story by), C. Robert Cargill (story by), Steve Ditko (comic book)",
         "Rachel McAdams, Benedict Cumberbatch, Mads Mikkelsen, Tilda Swinton",
         "After his career is destroyed, a brilliant but arrogant and conceited surgeon gets a new lease on life when a sorcerer takes him under her wing and trains him to defend the world against evil.",
         "English",
         "USA",
         "N/A",
         "http://ia.media-imdb.com/images/M/MV5BNjgwNzAzNjk1Nl5BMl5BanBnXkFtZTgwMzQ2NjI1OTE@._V1_SX300.jpg",
         "N/A",
         "N/A",
         "N/A",
         "tt1211837",
         "movie",
         "True"
        ],
        [
         "Rogue One: A Star Wars Story",
         "2016",
         "N/A",
         "16 Dec 2016",
         "N/A",
         "Action, Adventure, Sci-Fi",
         "Gareth Edwards",
         "Chris Weitz (screenplay), Tony Gilroy (screenplay), John Knoll (story), Gary Whitta (story), George Lucas (characters)",
         "Felicity Jones, Riz Ahmed, Mads Mikkelsen, Ben Mendelsohn",
         "The Rebellion makes a risky move to steal the plans to the Death Star, setting up the epic saga to follow.",
         "English",
         "USA",
         "1 nomination.",
         "https://images-na.ssl-images-amazon.com/images/M/MV5BMjQyMzI2OTA3OF5BMl5BanBnXkFtZTgwNDg5NjQ0OTE@._V1_SY1000_CR0,0,674,1000_AL_.jpg",
         "N/A",
         "N/A",
         "N/A",
         "tt3748528",
         "movie",
         "True"
        ],
        [
         "Assassin's Creed",
         "2016",
         "N/A",
         "21 Dec 2016",
         "N/A",
         "Action, Adventure, Fantasy",
         "Justin Kurzel",
         "Bill Collage (screenplay), Adam Cooper (screenplay), Michael Lesslie (screenplay)",
         "Michael Fassbender, Michael Kenneth Williams, Marion Cotillard, Jeremy Irons",
         "When Callum Lynch explores the memories of his ancestor Aguilar and gains the skills of a Master Assassin, he discovers he is a descendant of the secret Assassins society.",
         "English",
         "UK, France, USA, Hong Kong",
         "N/A",
         "http://ia.media-imdb.com/images/M/MV5BMTU2MTQwMjU1OF5BMl5BanBnXkFtZTgwMDA5NjU5ODE@._V1_SX300.jpg",
         "N/A",
         "N/A",
         "N/A",
         "tt2094766",
         "movie",
         "True"
        ],
        [
         "Luke Cage",
         "2016–",
         "TV-MA",
         "30 Sep 2016",
         "55 min",
         "Action, Crime, Drama",
         "N/A",
         "Cheo Hodari Coker",
         "Mahershala Ali, Mike Colter, Frankie Faison, Erik LaRay Harvey",
         "Given superstrength and durability by a sabotaged experiment, a wrongly accused man escapes prison to become a superhero for hire.",
         "English",
         "USA",
         "N/A",
         "http://ia.media-imdb.com/images/M/MV5BMTcyMzc1MjI5MF5BMl5BanBnXkFtZTgwMzE4ODY2OTE@._V1_SX300.jpg",
         "N/A",
         "N/A",
         "N/A",
         "tt3322314",
         "series",
         "True"
        ]
       ],
       "datasetInfos": [
        {
         "name": "df_films",
         "schema": {
          "fields": [
           {
            "metadata": {},
            "name": "Title",
            "nullable": true,
            "type": "string"
           },
           {
            "metadata": {},
            "name": "Year",
            "nullable": true,
            "type": "string"
           },
           {
            "metadata": {},
            "name": "Rated",
            "nullable": true,
            "type": "string"
           },
           {
            "metadata": {},
            "name": "Released",
            "nullable": true,
            "type": "string"
           },
           {
            "metadata": {},
            "name": "Runtime",
            "nullable": true,
            "type": "string"
           },
           {
            "metadata": {},
            "name": "Genre",
            "nullable": true,
            "type": "string"
           },
           {
            "metadata": {},
            "name": "Director",
            "nullable": true,
            "type": "string"
           },
           {
            "metadata": {},
            "name": "Writer",
            "nullable": true,
            "type": "string"
           },
           {
            "metadata": {},
            "name": "Actors",
            "nullable": true,
            "type": "string"
           },
           {
            "metadata": {},
            "name": "Plot",
            "nullable": true,
            "type": "string"
           },
           {
            "metadata": {},
            "name": "Language",
            "nullable": true,
            "type": "string"
           },
           {
            "metadata": {},
            "name": "Country",
            "nullable": true,
            "type": "string"
           },
           {
            "metadata": {},
            "name": "Awards",
            "nullable": true,
            "type": "string"
           },
           {
            "metadata": {},
            "name": "Poster",
            "nullable": true,
            "type": "string"
           },
           {
            "metadata": {},
            "name": "Metascore",
            "nullable": true,
            "type": "string"
           },
           {
            "metadata": {},
            "name": "imdbRating",
            "nullable": true,
            "type": "string"
           },
           {
            "metadata": {},
            "name": "imdbVotes",
            "nullable": true,
            "type": "string"
           },
           {
            "metadata": {},
            "name": "imdbID",
            "nullable": true,
            "type": "string"
           },
           {
            "metadata": {},
            "name": "Type",
            "nullable": true,
            "type": "string"
           },
           {
            "metadata": {},
            "name": "Response",
            "nullable": true,
            "type": "string"
           }
          ],
          "type": "struct"
         },
         "tableIdentifier": null,
         "typeStr": "org.apache.spark.sql.DataFrame"
        }
       ],
       "dbfsResultPath": null,
       "isJsonSchema": true,
       "metadata": {},
       "overflow": false,
       "plotOptions": {
        "customPlotOptions": {},
        "displayType": "table",
        "pivotAggregation": null,
        "pivotColumns": null,
        "xColumns": null,
        "yColumns": null
       },
       "removedWidgets": [],
       "schema": [
        {
         "metadata": "{}",
         "name": "Title",
         "type": "\"string\""
        },
        {
         "metadata": "{}",
         "name": "Year",
         "type": "\"string\""
        },
        {
         "metadata": "{}",
         "name": "Rated",
         "type": "\"string\""
        },
        {
         "metadata": "{}",
         "name": "Released",
         "type": "\"string\""
        },
        {
         "metadata": "{}",
         "name": "Runtime",
         "type": "\"string\""
        },
        {
         "metadata": "{}",
         "name": "Genre",
         "type": "\"string\""
        },
        {
         "metadata": "{}",
         "name": "Director",
         "type": "\"string\""
        },
        {
         "metadata": "{}",
         "name": "Writer",
         "type": "\"string\""
        },
        {
         "metadata": "{}",
         "name": "Actors",
         "type": "\"string\""
        },
        {
         "metadata": "{}",
         "name": "Plot",
         "type": "\"string\""
        },
        {
         "metadata": "{}",
         "name": "Language",
         "type": "\"string\""
        },
        {
         "metadata": "{}",
         "name": "Country",
         "type": "\"string\""
        },
        {
         "metadata": "{}",
         "name": "Awards",
         "type": "\"string\""
        },
        {
         "metadata": "{}",
         "name": "Poster",
         "type": "\"string\""
        },
        {
         "metadata": "{}",
         "name": "Metascore",
         "type": "\"string\""
        },
        {
         "metadata": "{}",
         "name": "imdbRating",
         "type": "\"string\""
        },
        {
         "metadata": "{}",
         "name": "imdbVotes",
         "type": "\"string\""
        },
        {
         "metadata": "{}",
         "name": "imdbID",
         "type": "\"string\""
        },
        {
         "metadata": "{}",
         "name": "Type",
         "type": "\"string\""
        },
        {
         "metadata": "{}",
         "name": "Response",
         "type": "\"string\""
        }
       ],
       "type": "table"
      }
     },
     "output_type": "display_data"
    }
   ],
   "source": [
    "# Retrieving Database from MongoDB Atlas Database\n",
    "\n",
    "%scala\n",
    "import com.mongodb.spark._\n",
    "\n",
    "val df_films = spark.read.format(\"com.mongodb.spark.sql.DefaultSource\")\n",
    ".option(\"database\", \"Sakila\").option(\"collection\", \"New_Films\").load()\n",
    ".select(\"Title\", \"Year\", \"Rated\", \"Released\", \"Runtime\", \"Genre\", \"Director\", \"Writer\", \"Actors\", \"Plot\", \"Language\", \"Country\", \"Awards\", \"Poster\", \"Metascore\", \"imdbRating\", \"imdbVotes\", \"imdbID\", \"Type\", \"Response\")\n",
    "\n",
    "display(df_films)"
   ]
  },
  {
   "cell_type": "code",
   "execution_count": null,
   "metadata": {
    "application/vnd.databricks.v1+cell": {
     "cellMetadata": {
      "byteLimit": 2048000,
      "rowLimit": 10000
     },
     "inputWidgets": {},
     "nuid": "a35dd6f8-bf9b-4a77-9e24-d30223e3a1d6",
     "showTitle": false,
     "title": ""
    }
   },
   "outputs": [
    {
     "data": {
      "text/html": [
       "<style scoped>\n",
       "  .ansiout {\n",
       "    display: block;\n",
       "    unicode-bidi: embed;\n",
       "    white-space: pre-wrap;\n",
       "    word-wrap: break-word;\n",
       "    word-break: break-all;\n",
       "    font-family: \"Source Code Pro\", \"Menlo\", monospace;;\n",
       "    font-size: 13px;\n",
       "    color: #555;\n",
       "    margin-left: 4px;\n",
       "    line-height: 19px;\n",
       "  }\n",
       "</style>\n",
       "<div class=\"ansiout\"></div>"
      ]
     },
     "metadata": {
      "application/vnd.databricks.v1+output": {
       "addedWidgets": {},
       "arguments": {},
       "data": "<div class=\"ansiout\"></div>",
       "datasetInfos": [],
       "metadata": {
        "isDbfsCommandResult": false
       },
       "removedWidgets": [],
       "type": "html"
      }
     },
     "output_type": "display_data"
    }
   ],
   "source": [
    "%scala\n",
    "df_films.write.format(\"delta\").mode(\"overwrite\").saveAsTable(\"sakila_dlh.dim_films\")"
   ]
  },
  {
   "cell_type": "code",
   "execution_count": null,
   "metadata": {
    "application/vnd.databricks.v1+cell": {
     "cellMetadata": {
      "byteLimit": 2048000,
      "implicitDf": true,
      "rowLimit": 10000
     },
     "inputWidgets": {},
     "nuid": "3b71df96-d9ce-46bb-a2cc-5ce335499ec3",
     "showTitle": false,
     "title": ""
    }
   },
   "outputs": [
    {
     "data": {
      "text/html": [
       "<style scoped>\n",
       "  .table-result-container {\n",
       "    max-height: 300px;\n",
       "    overflow: auto;\n",
       "  }\n",
       "  table, th, td {\n",
       "    border: 1px solid black;\n",
       "    border-collapse: collapse;\n",
       "  }\n",
       "  th, td {\n",
       "    padding: 5px;\n",
       "  }\n",
       "  th {\n",
       "    text-align: left;\n",
       "  }\n",
       "</style><div class='table-result-container'><table class='table-result'><thead style='background-color: white'><tr><th>Title</th><th>Year</th><th>Rated</th><th>Released</th><th>Runtime</th><th>Genre</th><th>Director</th><th>Writer</th><th>Actors</th><th>Plot</th><th>Language</th><th>Country</th><th>Awards</th><th>Poster</th><th>Metascore</th><th>imdbRating</th><th>imdbVotes</th><th>imdbID</th><th>Type</th><th>Response</th></tr></thead><tbody><tr><td>Avatar</td><td>2009</td><td>PG-13</td><td>18 Dec 2009</td><td>162 min</td><td>Action, Adventure, Fantasy</td><td>James Cameron</td><td>James Cameron</td><td>Sam Worthington, Zoe Saldana, Sigourney Weaver, Stephen Lang</td><td>A paraplegic marine dispatched to the moon Pandora on a unique mission becomes torn between following his orders and protecting the world he feels is his home.</td><td>English, Spanish</td><td>USA, UK</td><td>Won 3 Oscars. Another 80 wins & 121 nominations.</td><td>http://ia.media-imdb.com/images/M/MV5BMTYwOTEwNjAzMl5BMl5BanBnXkFtZTcwODc5MTUwMw@@._V1_SX300.jpg</td><td>83</td><td>7.9</td><td>890,617</td><td>tt0499549</td><td>movie</td><td>True</td></tr><tr><td>I Am Legend</td><td>2007</td><td>PG-13</td><td>14 Dec 2007</td><td>101 min</td><td>Drama, Horror, Sci-Fi</td><td>Francis Lawrence</td><td>Mark Protosevich (screenplay), Akiva Goldsman (screenplay), Richard Matheson (novel), John William Corrington, Joyce Hooper Corrington</td><td>Will Smith, Alice Braga, Charlie Tahan, Salli Richardson-Whitfield</td><td>Years after a plague kills most of humanity and transforms the rest into monsters, the sole survivor in New York City struggles valiantly to find a cure.</td><td>English</td><td>USA</td><td>9 wins & 21 nominations.</td><td>http://ia.media-imdb.com/images/M/MV5BMTU4NzMyNDk1OV5BMl5BanBnXkFtZTcwOTEwMzU1MQ@@._V1_SX300.jpg</td><td>65</td><td>7.2</td><td>533,874</td><td>tt0480249</td><td>movie</td><td>True</td></tr><tr><td>The Avengers</td><td>2012</td><td>PG-13</td><td>04 May 2012</td><td>143 min</td><td>Action, Sci-Fi, Thriller</td><td>Joss Whedon</td><td>Joss Whedon (screenplay), Zak Penn (story), Joss Whedon (story)</td><td>Robert Downey Jr., Chris Evans, Mark Ruffalo, Chris Hemsworth</td><td>Earth's mightiest heroes must come together and learn to fight as a team if they are to stop the mischievous Loki and his alien army from enslaving humanity.</td><td>English, Russian</td><td>USA</td><td>Nominated for 1 Oscar. Another 34 wins & 75 nominations.</td><td>http://ia.media-imdb.com/images/M/MV5BMTk2NTI1MTU4N15BMl5BanBnXkFtZTcwODg0OTY0Nw@@._V1_SX300.jpg</td><td>69</td><td>8.1</td><td>1,003,301</td><td>tt0848228</td><td>movie</td><td>True</td></tr><tr><td>The Wolf of Wall Street</td><td>2013</td><td>R</td><td>25 Dec 2013</td><td>180 min</td><td>Biography, Comedy, Crime</td><td>Martin Scorsese</td><td>Terence Winter (screenplay), Jordan Belfort (book)</td><td>Leonardo DiCaprio, Jonah Hill, Margot Robbie, Matthew McConaughey</td><td>Based on the true story of Jordan Belfort, from his rise to a wealthy stock-broker living the high life to his fall involving crime, corruption and the federal government.</td><td>English, French</td><td>USA</td><td>Nominated for 5 Oscars. Another 35 wins & 154 nominations.</td><td>http://ia.media-imdb.com/images/M/MV5BMjIxMjgxNTk0MF5BMl5BanBnXkFtZTgwNjIyOTg2MDE@._V1_SX300.jpg</td><td>75</td><td>8.2</td><td>786,985</td><td>tt0993846</td><td>movie</td><td>True</td></tr><tr><td>Interstellar</td><td>2014</td><td>PG-13</td><td>07 Nov 2014</td><td>169 min</td><td>Adventure, Drama, Sci-Fi</td><td>Christopher Nolan</td><td>Jonathan Nolan, Christopher Nolan</td><td>Ellen Burstyn, Matthew McConaughey, Mackenzie Foy, John Lithgow</td><td>A team of explorers travel through a wormhole in space in an attempt to ensure humanity's survival.</td><td>English</td><td>USA, UK</td><td>Won 1 Oscar. Another 39 wins & 134 nominations.</td><td>http://ia.media-imdb.com/images/M/MV5BMjIxNTU4MzY4MF5BMl5BanBnXkFtZTgwMzM4ODI3MjE@._V1_SX300.jpg</td><td>74</td><td>8.6</td><td>937,412</td><td>tt0816692</td><td>movie</td><td>True</td></tr></tbody></table></div>"
      ]
     },
     "metadata": {
      "application/vnd.databricks.v1+output": {
       "addedWidgets": {},
       "aggData": [],
       "aggError": "",
       "aggOverflow": false,
       "aggSchema": [],
       "aggSeriesLimitReached": false,
       "aggType": "",
       "arguments": {},
       "columnCustomDisplayInfos": {},
       "data": [
        [
         "Avatar",
         "2009",
         "PG-13",
         "18 Dec 2009",
         "162 min",
         "Action, Adventure, Fantasy",
         "James Cameron",
         "James Cameron",
         "Sam Worthington, Zoe Saldana, Sigourney Weaver, Stephen Lang",
         "A paraplegic marine dispatched to the moon Pandora on a unique mission becomes torn between following his orders and protecting the world he feels is his home.",
         "English, Spanish",
         "USA, UK",
         "Won 3 Oscars. Another 80 wins & 121 nominations.",
         "http://ia.media-imdb.com/images/M/MV5BMTYwOTEwNjAzMl5BMl5BanBnXkFtZTcwODc5MTUwMw@@._V1_SX300.jpg",
         "83",
         "7.9",
         "890,617",
         "tt0499549",
         "movie",
         "True"
        ],
        [
         "I Am Legend",
         "2007",
         "PG-13",
         "14 Dec 2007",
         "101 min",
         "Drama, Horror, Sci-Fi",
         "Francis Lawrence",
         "Mark Protosevich (screenplay), Akiva Goldsman (screenplay), Richard Matheson (novel), John William Corrington, Joyce Hooper Corrington",
         "Will Smith, Alice Braga, Charlie Tahan, Salli Richardson-Whitfield",
         "Years after a plague kills most of humanity and transforms the rest into monsters, the sole survivor in New York City struggles valiantly to find a cure.",
         "English",
         "USA",
         "9 wins & 21 nominations.",
         "http://ia.media-imdb.com/images/M/MV5BMTU4NzMyNDk1OV5BMl5BanBnXkFtZTcwOTEwMzU1MQ@@._V1_SX300.jpg",
         "65",
         "7.2",
         "533,874",
         "tt0480249",
         "movie",
         "True"
        ],
        [
         "The Avengers",
         "2012",
         "PG-13",
         "04 May 2012",
         "143 min",
         "Action, Sci-Fi, Thriller",
         "Joss Whedon",
         "Joss Whedon (screenplay), Zak Penn (story), Joss Whedon (story)",
         "Robert Downey Jr., Chris Evans, Mark Ruffalo, Chris Hemsworth",
         "Earth's mightiest heroes must come together and learn to fight as a team if they are to stop the mischievous Loki and his alien army from enslaving humanity.",
         "English, Russian",
         "USA",
         "Nominated for 1 Oscar. Another 34 wins & 75 nominations.",
         "http://ia.media-imdb.com/images/M/MV5BMTk2NTI1MTU4N15BMl5BanBnXkFtZTcwODg0OTY0Nw@@._V1_SX300.jpg",
         "69",
         "8.1",
         "1,003,301",
         "tt0848228",
         "movie",
         "True"
        ],
        [
         "The Wolf of Wall Street",
         "2013",
         "R",
         "25 Dec 2013",
         "180 min",
         "Biography, Comedy, Crime",
         "Martin Scorsese",
         "Terence Winter (screenplay), Jordan Belfort (book)",
         "Leonardo DiCaprio, Jonah Hill, Margot Robbie, Matthew McConaughey",
         "Based on the true story of Jordan Belfort, from his rise to a wealthy stock-broker living the high life to his fall involving crime, corruption and the federal government.",
         "English, French",
         "USA",
         "Nominated for 5 Oscars. Another 35 wins & 154 nominations.",
         "http://ia.media-imdb.com/images/M/MV5BMjIxMjgxNTk0MF5BMl5BanBnXkFtZTgwNjIyOTg2MDE@._V1_SX300.jpg",
         "75",
         "8.2",
         "786,985",
         "tt0993846",
         "movie",
         "True"
        ],
        [
         "Interstellar",
         "2014",
         "PG-13",
         "07 Nov 2014",
         "169 min",
         "Adventure, Drama, Sci-Fi",
         "Christopher Nolan",
         "Jonathan Nolan, Christopher Nolan",
         "Ellen Burstyn, Matthew McConaughey, Mackenzie Foy, John Lithgow",
         "A team of explorers travel through a wormhole in space in an attempt to ensure humanity's survival.",
         "English",
         "USA, UK",
         "Won 1 Oscar. Another 39 wins & 134 nominations.",
         "http://ia.media-imdb.com/images/M/MV5BMjIxNTU4MzY4MF5BMl5BanBnXkFtZTgwMzM4ODI3MjE@._V1_SX300.jpg",
         "74",
         "8.6",
         "937,412",
         "tt0816692",
         "movie",
         "True"
        ]
       ],
       "datasetInfos": [],
       "dbfsResultPath": null,
       "isJsonSchema": true,
       "metadata": {},
       "overflow": false,
       "plotOptions": {
        "customPlotOptions": {},
        "displayType": "table",
        "pivotAggregation": null,
        "pivotColumns": null,
        "xColumns": null,
        "yColumns": null
       },
       "removedWidgets": [],
       "schema": [
        {
         "metadata": "{}",
         "name": "Title",
         "type": "\"string\""
        },
        {
         "metadata": "{}",
         "name": "Year",
         "type": "\"string\""
        },
        {
         "metadata": "{}",
         "name": "Rated",
         "type": "\"string\""
        },
        {
         "metadata": "{}",
         "name": "Released",
         "type": "\"string\""
        },
        {
         "metadata": "{}",
         "name": "Runtime",
         "type": "\"string\""
        },
        {
         "metadata": "{}",
         "name": "Genre",
         "type": "\"string\""
        },
        {
         "metadata": "{}",
         "name": "Director",
         "type": "\"string\""
        },
        {
         "metadata": "{}",
         "name": "Writer",
         "type": "\"string\""
        },
        {
         "metadata": "{}",
         "name": "Actors",
         "type": "\"string\""
        },
        {
         "metadata": "{}",
         "name": "Plot",
         "type": "\"string\""
        },
        {
         "metadata": "{}",
         "name": "Language",
         "type": "\"string\""
        },
        {
         "metadata": "{}",
         "name": "Country",
         "type": "\"string\""
        },
        {
         "metadata": "{}",
         "name": "Awards",
         "type": "\"string\""
        },
        {
         "metadata": "{}",
         "name": "Poster",
         "type": "\"string\""
        },
        {
         "metadata": "{}",
         "name": "Metascore",
         "type": "\"string\""
        },
        {
         "metadata": "{}",
         "name": "imdbRating",
         "type": "\"string\""
        },
        {
         "metadata": "{}",
         "name": "imdbVotes",
         "type": "\"string\""
        },
        {
         "metadata": "{}",
         "name": "imdbID",
         "type": "\"string\""
        },
        {
         "metadata": "{}",
         "name": "Type",
         "type": "\"string\""
        },
        {
         "metadata": "{}",
         "name": "Response",
         "type": "\"string\""
        }
       ],
       "type": "table"
      }
     },
     "output_type": "display_data"
    }
   ],
   "source": [
    "%sql\n",
    "SELECT * FROM sakila_dlh.dim_films LIMIT 5"
   ]
  },
  {
   "cell_type": "code",
   "execution_count": null,
   "metadata": {
    "application/vnd.databricks.v1+cell": {
     "cellMetadata": {
      "byteLimit": 2048000,
      "rowLimit": 10000
     },
     "inputWidgets": {},
     "nuid": "e3dc2bd9-f464-400f-ade6-e8dfd3d09b2d",
     "showTitle": false,
     "title": ""
    }
   },
   "outputs": [
    {
     "data": {
      "text/html": [
       "<style scoped>\n",
       "  .table-result-container {\n",
       "    max-height: 300px;\n",
       "    overflow: auto;\n",
       "  }\n",
       "  table, th, td {\n",
       "    border: 1px solid black;\n",
       "    border-collapse: collapse;\n",
       "  }\n",
       "  th, td {\n",
       "    padding: 5px;\n",
       "  }\n",
       "  th {\n",
       "    text-align: left;\n",
       "  }\n",
       "</style><div class='table-result-container'><table class='table-result'><thead style='background-color: white'><tr><th>first_name</th><th>last_name</th><th>company_name</th><th>address</th><th>city</th><th>county</th><th>state</th><th>zip</th><th>phone1</th><th>phone</th><th>email</th></tr></thead><tbody><tr><td>James</td><td>Butt</td><td>Benton, John B Jr</td><td>6649 N Blue Gum St</td><td>New Orleans</td><td>Orleans</td><td>LA</td><td>70116</td><td>504-621-8927</td><td>504-845-1427</td><td>jbutt@gmail.com</td></tr><tr><td>Josephine</td><td>Darakjy</td><td>Chanay, Jeffrey A Esq</td><td>4 B Blue Ridge Blvd</td><td>Brighton</td><td>Livingston</td><td>MI</td><td>48116</td><td>810-292-9388</td><td>810-374-9840</td><td>josephine_darakjy@darakjy.org</td></tr><tr><td>Art</td><td>Venere</td><td>Chemel, James L Cpa</td><td>8 W Cerritos Ave #54</td><td>Bridgeport</td><td>Gloucester</td><td>NJ</td><td>8014</td><td>856-636-8749</td><td>856-264-4130</td><td>art@venere.org</td></tr><tr><td>Lenna</td><td>Paprocki</td><td>Feltz Printing Service</td><td>639 Main St</td><td>Anchorage</td><td>Anchorage</td><td>AK</td><td>99501</td><td>907-385-4412</td><td>907-921-2010</td><td>lpaprocki@hotmail.com</td></tr><tr><td>Donette</td><td>Foller</td><td>Printing Dimensions</td><td>34 Center St</td><td>Hamilton</td><td>Butler</td><td>OH</td><td>45011</td><td>513-570-1893</td><td>513-549-4561</td><td>donette.foller@cox.net</td></tr><tr><td>Simona</td><td>Morasca</td><td>Chapman, Ross E Esq</td><td>3 Mcauley Dr</td><td>Ashland</td><td>Ashland</td><td>OH</td><td>44805</td><td>419-503-2484</td><td>419-800-6759</td><td>simona@morasca.com</td></tr><tr><td>Mitsue</td><td>Tollner</td><td>Morlong Associates</td><td>7 Eads St</td><td>Chicago</td><td>Cook</td><td>IL</td><td>60632</td><td>773-573-6914</td><td>773-924-8565</td><td>mitsue_tollner@yahoo.com</td></tr><tr><td>Leota</td><td>Dilliard</td><td>Commercial Press</td><td>7 W Jackson Blvd</td><td>San Jose</td><td>Santa Clara</td><td>CA</td><td>95111</td><td>408-752-3500</td><td>408-813-1105</td><td>leota@hotmail.com</td></tr><tr><td>Sage</td><td>Wieser</td><td>Truhlar And Truhlar Attys</td><td>5 Boston Ave #88</td><td>Sioux Falls</td><td>Minnehaha</td><td>SD</td><td>57105</td><td>605-414-2147</td><td>605-794-4895</td><td>sage_wieser@cox.net</td></tr><tr><td>Kris</td><td>Marrier</td><td>King, Christopher A Esq</td><td>228 Runamuck Pl #2808</td><td>Baltimore</td><td>Baltimore City</td><td>MD</td><td>21224</td><td>410-655-8723</td><td>410-804-4694</td><td>kris@gmail.com</td></tr><tr><td>Minna</td><td>Amigon</td><td>Dorl, James J Esq</td><td>2371 Jerrold Ave</td><td>Kulpsville</td><td>Montgomery</td><td>PA</td><td>19443</td><td>215-874-1229</td><td>215-422-8694</td><td>minna_amigon@yahoo.com</td></tr><tr><td>Abel</td><td>Maclead</td><td>Rangoni Of Florence</td><td>37275 St  Rt 17m M</td><td>Middle Island</td><td>Suffolk</td><td>NY</td><td>11953</td><td>631-335-3414</td><td>631-677-3675</td><td>amaclead@gmail.com</td></tr><tr><td>Kiley</td><td>Caldarera</td><td>Feiner Bros</td><td>25 E 75th St #69</td><td>Los Angeles</td><td>Los Angeles</td><td>CA</td><td>90034</td><td>310-498-5651</td><td>310-254-3084</td><td>kiley.caldarera@aol.com</td></tr><tr><td>Graciela</td><td>Ruta</td><td>Buckley Miller & Wright</td><td>98 Connecticut Ave Nw</td><td>Chagrin Falls</td><td>Geauga</td><td>OH</td><td>44023</td><td>440-780-8425</td><td>440-579-7763</td><td>gruta@cox.net</td></tr><tr><td>Cammy</td><td>Albares</td><td>Rousseaux, Michael Esq</td><td>56 E Morehead St</td><td>Laredo</td><td>Webb</td><td>TX</td><td>78045</td><td>956-537-6195</td><td>956-841-7216</td><td>calbares@gmail.com</td></tr><tr><td>Mattie</td><td>Poquette</td><td>Century Communications</td><td>73 State Road 434 E</td><td>Phoenix</td><td>Maricopa</td><td>AZ</td><td>85013</td><td>602-277-4385</td><td>602-953-6360</td><td>mattie@aol.com</td></tr><tr><td>Meaghan</td><td>Garufi</td><td>Bolton, Wilbur Esq</td><td>69734 E Carrillo St</td><td>Mc Minnville</td><td>Warren</td><td>TN</td><td>37110</td><td>931-313-9635</td><td>931-235-7959</td><td>meaghan@hotmail.com</td></tr><tr><td>Gladys</td><td>Rim</td><td>T M Byxbee Company Pc</td><td>322 New Horizon Blvd</td><td>Milwaukee</td><td>Milwaukee</td><td>WI</td><td>53207</td><td>414-661-9598</td><td>414-377-2880</td><td>gladys.rim@rim.org</td></tr><tr><td>Yuki</td><td>Whobrey</td><td>Farmers Insurance Group</td><td>1 State Route 27</td><td>Taylor</td><td>Wayne</td><td>MI</td><td>48180</td><td>313-288-7937</td><td>313-341-4470</td><td>yuki_whobrey@aol.com</td></tr><tr><td>Fletcher</td><td>Flosi</td><td>Post Box Services Plus</td><td>394 Manchester Blvd</td><td>Rockford</td><td>Winnebago</td><td>IL</td><td>61109</td><td>815-828-2147</td><td>815-426-5657</td><td>fletcher.flosi@yahoo.com</td></tr><tr><td>Bette</td><td>Nicka</td><td>Sport En Art</td><td>6 S 33rd St</td><td>Aston</td><td>Delaware</td><td>PA</td><td>19014</td><td>610-545-3615</td><td>610-492-4643</td><td>bette_nicka@cox.net</td></tr><tr><td>Veronika</td><td>Inouye</td><td>C 4 Network Inc</td><td>6 Greenleaf Ave</td><td>San Jose</td><td>Santa Clara</td><td>CA</td><td>95111</td><td>408-540-1785</td><td>408-813-4592</td><td>vinouye@aol.com</td></tr><tr><td>Willard</td><td>Kolmetz</td><td>Ingalls, Donald R Esq</td><td>618 W Yakima Ave</td><td>Irving</td><td>Dallas</td><td>TX</td><td>75062</td><td>972-303-9197</td><td>972-896-4882</td><td>willard@hotmail.com</td></tr><tr><td>Maryann</td><td>Royster</td><td>Franklin, Peter L Esq</td><td>74 S Westgate St</td><td>Albany</td><td>Albany</td><td>NY</td><td>12204</td><td>518-966-7987</td><td>518-448-8982</td><td>mroyster@royster.com</td></tr><tr><td>Alisha</td><td>Slusarski</td><td>Wtlz Power 107 Fm</td><td>3273 State St</td><td>Middlesex</td><td>Middlesex</td><td>NJ</td><td>8846</td><td>732-658-3154</td><td>732-635-3453</td><td>alisha@slusarski.com</td></tr><tr><td>Allene</td><td>Iturbide</td><td>Ledecky, David Esq</td><td>1 Central Ave</td><td>Stevens Point</td><td>Portage</td><td>WI</td><td>54481</td><td>715-662-6764</td><td>715-530-9863</td><td>allene_iturbide@cox.net</td></tr><tr><td>Chanel</td><td>Caudy</td><td>Professional Image Inc</td><td>86 Nw 66th St #8673</td><td>Shawnee</td><td>Johnson</td><td>KS</td><td>66218</td><td>913-388-2079</td><td>913-899-1103</td><td>chanel.caudy@caudy.org</td></tr><tr><td>Ezekiel</td><td>Chui</td><td>Sider, Donald C Esq</td><td>2 Cedar Ave #84</td><td>Easton</td><td>Talbot</td><td>MD</td><td>21601</td><td>410-669-1642</td><td>410-235-8738</td><td>ezekiel@chui.com</td></tr><tr><td>Willow</td><td>Kusko</td><td>U Pull It</td><td>90991 Thorburn Ave</td><td>New York</td><td>New York</td><td>NY</td><td>10011</td><td>212-582-4976</td><td>212-934-5167</td><td>wkusko@yahoo.com</td></tr><tr><td>Bernardo</td><td>Figeroa</td><td>Clark, Richard Cpa</td><td>386 9th Ave N</td><td>Conroe</td><td>Montgomery</td><td>TX</td><td>77301</td><td>936-336-3951</td><td>936-597-3614</td><td>bfigeroa@aol.com</td></tr><tr><td>Ammie</td><td>Corrio</td><td>Moskowitz, Barry S</td><td>74874 Atlantic Ave</td><td>Columbus</td><td>Franklin</td><td>OH</td><td>43215</td><td>614-801-9788</td><td>614-648-3265</td><td>ammie@corrio.com</td></tr><tr><td>Francine</td><td>Vocelka</td><td>Cascade Realty Advisors Inc</td><td>366 South Dr</td><td>Las Cruces</td><td>Dona Ana</td><td>NM</td><td>88011</td><td>505-977-3911</td><td>505-335-5293</td><td>francine_vocelka@vocelka.com</td></tr><tr><td>Ernie</td><td>Stenseth</td><td>Knwz Newsradio</td><td>45 E Liberty St</td><td>Ridgefield Park</td><td>Bergen</td><td>NJ</td><td>7660</td><td>201-709-6245</td><td>201-387-9093</td><td>ernie_stenseth@aol.com</td></tr><tr><td>Albina</td><td>Glick</td><td>Giampetro, Anthony D</td><td>4 Ralph Ct</td><td>Dunellen</td><td>Middlesex</td><td>NJ</td><td>8812</td><td>732-924-7882</td><td>732-782-6701</td><td>albina@glick.com</td></tr><tr><td>Alishia</td><td>Sergi</td><td>Milford Enterprises Inc</td><td>2742 Distribution Way</td><td>New York</td><td>New York</td><td>NY</td><td>10025</td><td>212-860-1579</td><td>212-753-2740</td><td>asergi@gmail.com</td></tr><tr><td>Solange</td><td>Shinko</td><td>Mosocco, Ronald A</td><td>426 Wolf St</td><td>Metairie</td><td>Jefferson</td><td>LA</td><td>70002</td><td>504-979-9175</td><td>504-265-8174</td><td>solange@shinko.com</td></tr><tr><td>Jose</td><td>Stockham</td><td>Tri State Refueler Co</td><td>128 Bransten Rd</td><td>New York</td><td>New York</td><td>NY</td><td>10011</td><td>212-675-8570</td><td>212-569-4233</td><td>jose@yahoo.com</td></tr><tr><td>Rozella</td><td>Ostrosky</td><td>Parkway Company</td><td>17 Morena Blvd</td><td>Camarillo</td><td>Ventura</td><td>CA</td><td>93012</td><td>805-832-6163</td><td>805-609-1531</td><td>rozella.ostrosky@ostrosky.com</td></tr><tr><td>Valentine</td><td>Gillian</td><td>Fbs Business Finance</td><td>775 W 17th St</td><td>San Antonio</td><td>Bexar</td><td>TX</td><td>78204</td><td>210-812-9597</td><td>210-300-6244</td><td>valentine_gillian@gmail.com</td></tr><tr><td>Kati</td><td>Rulapaugh</td><td>Eder Assocs Consltng Engrs Pc</td><td>6980 Dorsett Rd</td><td>Abilene</td><td>Dickinson</td><td>KS</td><td>67410</td><td>785-463-7829</td><td>785-219-7724</td><td>kati.rulapaugh@hotmail.com</td></tr><tr><td>Youlanda</td><td>Schemmer</td><td>Tri M Tool Inc</td><td>2881 Lewis Rd</td><td>Prineville</td><td>Crook</td><td>OR</td><td>97754</td><td>541-548-8197</td><td>541-993-2611</td><td>youlanda@aol.com</td></tr><tr><td>Dyan</td><td>Oldroyd</td><td>International Eyelets Inc</td><td>7219 Woodfield Rd</td><td>Overland Park</td><td>Johnson</td><td>KS</td><td>66204</td><td>913-413-4604</td><td>913-645-8918</td><td>doldroyd@aol.com</td></tr><tr><td>Roxane</td><td>Campain</td><td>Rapid Trading Intl</td><td>1048 Main St</td><td>Fairbanks</td><td>Fairbanks North Star</td><td>AK</td><td>99708</td><td>907-231-4722</td><td>907-335-6568</td><td>roxane@hotmail.com</td></tr><tr><td>Lavera</td><td>Perin</td><td>Abc Enterprises Inc</td><td>678 3rd Ave</td><td>Miami</td><td>Miami-Dade</td><td>FL</td><td>33196</td><td>305-606-7291</td><td>305-995-2078</td><td>lperin@perin.org</td></tr><tr><td>Erick</td><td>Ferencz</td><td>Cindy Turner Associates</td><td>20 S Babcock St</td><td>Fairbanks</td><td>Fairbanks North Star</td><td>AK</td><td>99712</td><td>907-741-1044</td><td>907-227-6777</td><td>erick.ferencz@aol.com</td></tr><tr><td>Fatima</td><td>Saylors</td><td>Stanton, James D Esq</td><td>2 Lighthouse Ave</td><td>Hopkins</td><td>Hennepin</td><td>MN</td><td>55343</td><td>952-768-2416</td><td>952-479-2375</td><td>fsaylors@saylors.org</td></tr><tr><td>Jina</td><td>Briddick</td><td>Grace Pastries Inc</td><td>38938 Park Blvd</td><td>Boston</td><td>Suffolk</td><td>MA</td><td>2128</td><td>617-399-5124</td><td>617-997-5771</td><td>jina_briddick@briddick.com</td></tr><tr><td>Kanisha</td><td>Waycott</td><td>Schroer, Gene E Esq</td><td>5 Tomahawk Dr</td><td>Los Angeles</td><td>Los Angeles</td><td>CA</td><td>90006</td><td>323-453-2780</td><td>323-315-7314</td><td>kanisha_waycott@yahoo.com</td></tr><tr><td>Emerson</td><td>Bowley</td><td>Knights Inn</td><td>762 S Main St</td><td>Madison</td><td>Dane</td><td>WI</td><td>53711</td><td>608-336-7444</td><td>608-658-7940</td><td>emerson.bowley@bowley.org</td></tr><tr><td>Blair</td><td>Malet</td><td>Bollinger Mach Shp & Shipyard</td><td>209 Decker Dr</td><td>Philadelphia</td><td>Philadelphia</td><td>PA</td><td>19132</td><td>215-907-9111</td><td>215-794-4519</td><td>bmalet@yahoo.com</td></tr></tbody></table></div>"
      ]
     },
     "metadata": {
      "application/vnd.databricks.v1+output": {
       "addedWidgets": {},
       "aggData": [],
       "aggError": "",
       "aggOverflow": false,
       "aggSchema": [],
       "aggSeriesLimitReached": false,
       "aggType": "",
       "arguments": {},
       "columnCustomDisplayInfos": {},
       "data": [
        [
         "James",
         "Butt",
         "Benton, John B Jr",
         "6649 N Blue Gum St",
         "New Orleans",
         "Orleans",
         "LA",
         70116,
         "504-621-8927",
         "504-845-1427",
         "jbutt@gmail.com"
        ],
        [
         "Josephine",
         "Darakjy",
         "Chanay, Jeffrey A Esq",
         "4 B Blue Ridge Blvd",
         "Brighton",
         "Livingston",
         "MI",
         48116,
         "810-292-9388",
         "810-374-9840",
         "josephine_darakjy@darakjy.org"
        ],
        [
         "Art",
         "Venere",
         "Chemel, James L Cpa",
         "8 W Cerritos Ave #54",
         "Bridgeport",
         "Gloucester",
         "NJ",
         8014,
         "856-636-8749",
         "856-264-4130",
         "art@venere.org"
        ],
        [
         "Lenna",
         "Paprocki",
         "Feltz Printing Service",
         "639 Main St",
         "Anchorage",
         "Anchorage",
         "AK",
         99501,
         "907-385-4412",
         "907-921-2010",
         "lpaprocki@hotmail.com"
        ],
        [
         "Donette",
         "Foller",
         "Printing Dimensions",
         "34 Center St",
         "Hamilton",
         "Butler",
         "OH",
         45011,
         "513-570-1893",
         "513-549-4561",
         "donette.foller@cox.net"
        ],
        [
         "Simona",
         "Morasca",
         "Chapman, Ross E Esq",
         "3 Mcauley Dr",
         "Ashland",
         "Ashland",
         "OH",
         44805,
         "419-503-2484",
         "419-800-6759",
         "simona@morasca.com"
        ],
        [
         "Mitsue",
         "Tollner",
         "Morlong Associates",
         "7 Eads St",
         "Chicago",
         "Cook",
         "IL",
         60632,
         "773-573-6914",
         "773-924-8565",
         "mitsue_tollner@yahoo.com"
        ],
        [
         "Leota",
         "Dilliard",
         "Commercial Press",
         "7 W Jackson Blvd",
         "San Jose",
         "Santa Clara",
         "CA",
         95111,
         "408-752-3500",
         "408-813-1105",
         "leota@hotmail.com"
        ],
        [
         "Sage",
         "Wieser",
         "Truhlar And Truhlar Attys",
         "5 Boston Ave #88",
         "Sioux Falls",
         "Minnehaha",
         "SD",
         57105,
         "605-414-2147",
         "605-794-4895",
         "sage_wieser@cox.net"
        ],
        [
         "Kris",
         "Marrier",
         "King, Christopher A Esq",
         "228 Runamuck Pl #2808",
         "Baltimore",
         "Baltimore City",
         "MD",
         21224,
         "410-655-8723",
         "410-804-4694",
         "kris@gmail.com"
        ],
        [
         "Minna",
         "Amigon",
         "Dorl, James J Esq",
         "2371 Jerrold Ave",
         "Kulpsville",
         "Montgomery",
         "PA",
         19443,
         "215-874-1229",
         "215-422-8694",
         "minna_amigon@yahoo.com"
        ],
        [
         "Abel",
         "Maclead",
         "Rangoni Of Florence",
         "37275 St  Rt 17m M",
         "Middle Island",
         "Suffolk",
         "NY",
         11953,
         "631-335-3414",
         "631-677-3675",
         "amaclead@gmail.com"
        ],
        [
         "Kiley",
         "Caldarera",
         "Feiner Bros",
         "25 E 75th St #69",
         "Los Angeles",
         "Los Angeles",
         "CA",
         90034,
         "310-498-5651",
         "310-254-3084",
         "kiley.caldarera@aol.com"
        ],
        [
         "Graciela",
         "Ruta",
         "Buckley Miller & Wright",
         "98 Connecticut Ave Nw",
         "Chagrin Falls",
         "Geauga",
         "OH",
         44023,
         "440-780-8425",
         "440-579-7763",
         "gruta@cox.net"
        ],
        [
         "Cammy",
         "Albares",
         "Rousseaux, Michael Esq",
         "56 E Morehead St",
         "Laredo",
         "Webb",
         "TX",
         78045,
         "956-537-6195",
         "956-841-7216",
         "calbares@gmail.com"
        ],
        [
         "Mattie",
         "Poquette",
         "Century Communications",
         "73 State Road 434 E",
         "Phoenix",
         "Maricopa",
         "AZ",
         85013,
         "602-277-4385",
         "602-953-6360",
         "mattie@aol.com"
        ],
        [
         "Meaghan",
         "Garufi",
         "Bolton, Wilbur Esq",
         "69734 E Carrillo St",
         "Mc Minnville",
         "Warren",
         "TN",
         37110,
         "931-313-9635",
         "931-235-7959",
         "meaghan@hotmail.com"
        ],
        [
         "Gladys",
         "Rim",
         "T M Byxbee Company Pc",
         "322 New Horizon Blvd",
         "Milwaukee",
         "Milwaukee",
         "WI",
         53207,
         "414-661-9598",
         "414-377-2880",
         "gladys.rim@rim.org"
        ],
        [
         "Yuki",
         "Whobrey",
         "Farmers Insurance Group",
         "1 State Route 27",
         "Taylor",
         "Wayne",
         "MI",
         48180,
         "313-288-7937",
         "313-341-4470",
         "yuki_whobrey@aol.com"
        ],
        [
         "Fletcher",
         "Flosi",
         "Post Box Services Plus",
         "394 Manchester Blvd",
         "Rockford",
         "Winnebago",
         "IL",
         61109,
         "815-828-2147",
         "815-426-5657",
         "fletcher.flosi@yahoo.com"
        ],
        [
         "Bette",
         "Nicka",
         "Sport En Art",
         "6 S 33rd St",
         "Aston",
         "Delaware",
         "PA",
         19014,
         "610-545-3615",
         "610-492-4643",
         "bette_nicka@cox.net"
        ],
        [
         "Veronika",
         "Inouye",
         "C 4 Network Inc",
         "6 Greenleaf Ave",
         "San Jose",
         "Santa Clara",
         "CA",
         95111,
         "408-540-1785",
         "408-813-4592",
         "vinouye@aol.com"
        ],
        [
         "Willard",
         "Kolmetz",
         "Ingalls, Donald R Esq",
         "618 W Yakima Ave",
         "Irving",
         "Dallas",
         "TX",
         75062,
         "972-303-9197",
         "972-896-4882",
         "willard@hotmail.com"
        ],
        [
         "Maryann",
         "Royster",
         "Franklin, Peter L Esq",
         "74 S Westgate St",
         "Albany",
         "Albany",
         "NY",
         12204,
         "518-966-7987",
         "518-448-8982",
         "mroyster@royster.com"
        ],
        [
         "Alisha",
         "Slusarski",
         "Wtlz Power 107 Fm",
         "3273 State St",
         "Middlesex",
         "Middlesex",
         "NJ",
         8846,
         "732-658-3154",
         "732-635-3453",
         "alisha@slusarski.com"
        ],
        [
         "Allene",
         "Iturbide",
         "Ledecky, David Esq",
         "1 Central Ave",
         "Stevens Point",
         "Portage",
         "WI",
         54481,
         "715-662-6764",
         "715-530-9863",
         "allene_iturbide@cox.net"
        ],
        [
         "Chanel",
         "Caudy",
         "Professional Image Inc",
         "86 Nw 66th St #8673",
         "Shawnee",
         "Johnson",
         "KS",
         66218,
         "913-388-2079",
         "913-899-1103",
         "chanel.caudy@caudy.org"
        ],
        [
         "Ezekiel",
         "Chui",
         "Sider, Donald C Esq",
         "2 Cedar Ave #84",
         "Easton",
         "Talbot",
         "MD",
         21601,
         "410-669-1642",
         "410-235-8738",
         "ezekiel@chui.com"
        ],
        [
         "Willow",
         "Kusko",
         "U Pull It",
         "90991 Thorburn Ave",
         "New York",
         "New York",
         "NY",
         10011,
         "212-582-4976",
         "212-934-5167",
         "wkusko@yahoo.com"
        ],
        [
         "Bernardo",
         "Figeroa",
         "Clark, Richard Cpa",
         "386 9th Ave N",
         "Conroe",
         "Montgomery",
         "TX",
         77301,
         "936-336-3951",
         "936-597-3614",
         "bfigeroa@aol.com"
        ],
        [
         "Ammie",
         "Corrio",
         "Moskowitz, Barry S",
         "74874 Atlantic Ave",
         "Columbus",
         "Franklin",
         "OH",
         43215,
         "614-801-9788",
         "614-648-3265",
         "ammie@corrio.com"
        ],
        [
         "Francine",
         "Vocelka",
         "Cascade Realty Advisors Inc",
         "366 South Dr",
         "Las Cruces",
         "Dona Ana",
         "NM",
         88011,
         "505-977-3911",
         "505-335-5293",
         "francine_vocelka@vocelka.com"
        ],
        [
         "Ernie",
         "Stenseth",
         "Knwz Newsradio",
         "45 E Liberty St",
         "Ridgefield Park",
         "Bergen",
         "NJ",
         7660,
         "201-709-6245",
         "201-387-9093",
         "ernie_stenseth@aol.com"
        ],
        [
         "Albina",
         "Glick",
         "Giampetro, Anthony D",
         "4 Ralph Ct",
         "Dunellen",
         "Middlesex",
         "NJ",
         8812,
         "732-924-7882",
         "732-782-6701",
         "albina@glick.com"
        ],
        [
         "Alishia",
         "Sergi",
         "Milford Enterprises Inc",
         "2742 Distribution Way",
         "New York",
         "New York",
         "NY",
         10025,
         "212-860-1579",
         "212-753-2740",
         "asergi@gmail.com"
        ],
        [
         "Solange",
         "Shinko",
         "Mosocco, Ronald A",
         "426 Wolf St",
         "Metairie",
         "Jefferson",
         "LA",
         70002,
         "504-979-9175",
         "504-265-8174",
         "solange@shinko.com"
        ],
        [
         "Jose",
         "Stockham",
         "Tri State Refueler Co",
         "128 Bransten Rd",
         "New York",
         "New York",
         "NY",
         10011,
         "212-675-8570",
         "212-569-4233",
         "jose@yahoo.com"
        ],
        [
         "Rozella",
         "Ostrosky",
         "Parkway Company",
         "17 Morena Blvd",
         "Camarillo",
         "Ventura",
         "CA",
         93012,
         "805-832-6163",
         "805-609-1531",
         "rozella.ostrosky@ostrosky.com"
        ],
        [
         "Valentine",
         "Gillian",
         "Fbs Business Finance",
         "775 W 17th St",
         "San Antonio",
         "Bexar",
         "TX",
         78204,
         "210-812-9597",
         "210-300-6244",
         "valentine_gillian@gmail.com"
        ],
        [
         "Kati",
         "Rulapaugh",
         "Eder Assocs Consltng Engrs Pc",
         "6980 Dorsett Rd",
         "Abilene",
         "Dickinson",
         "KS",
         67410,
         "785-463-7829",
         "785-219-7724",
         "kati.rulapaugh@hotmail.com"
        ],
        [
         "Youlanda",
         "Schemmer",
         "Tri M Tool Inc",
         "2881 Lewis Rd",
         "Prineville",
         "Crook",
         "OR",
         97754,
         "541-548-8197",
         "541-993-2611",
         "youlanda@aol.com"
        ],
        [
         "Dyan",
         "Oldroyd",
         "International Eyelets Inc",
         "7219 Woodfield Rd",
         "Overland Park",
         "Johnson",
         "KS",
         66204,
         "913-413-4604",
         "913-645-8918",
         "doldroyd@aol.com"
        ],
        [
         "Roxane",
         "Campain",
         "Rapid Trading Intl",
         "1048 Main St",
         "Fairbanks",
         "Fairbanks North Star",
         "AK",
         99708,
         "907-231-4722",
         "907-335-6568",
         "roxane@hotmail.com"
        ],
        [
         "Lavera",
         "Perin",
         "Abc Enterprises Inc",
         "678 3rd Ave",
         "Miami",
         "Miami-Dade",
         "FL",
         33196,
         "305-606-7291",
         "305-995-2078",
         "lperin@perin.org"
        ],
        [
         "Erick",
         "Ferencz",
         "Cindy Turner Associates",
         "20 S Babcock St",
         "Fairbanks",
         "Fairbanks North Star",
         "AK",
         99712,
         "907-741-1044",
         "907-227-6777",
         "erick.ferencz@aol.com"
        ],
        [
         "Fatima",
         "Saylors",
         "Stanton, James D Esq",
         "2 Lighthouse Ave",
         "Hopkins",
         "Hennepin",
         "MN",
         55343,
         "952-768-2416",
         "952-479-2375",
         "fsaylors@saylors.org"
        ],
        [
         "Jina",
         "Briddick",
         "Grace Pastries Inc",
         "38938 Park Blvd",
         "Boston",
         "Suffolk",
         "MA",
         2128,
         "617-399-5124",
         "617-997-5771",
         "jina_briddick@briddick.com"
        ],
        [
         "Kanisha",
         "Waycott",
         "Schroer, Gene E Esq",
         "5 Tomahawk Dr",
         "Los Angeles",
         "Los Angeles",
         "CA",
         90006,
         "323-453-2780",
         "323-315-7314",
         "kanisha_waycott@yahoo.com"
        ],
        [
         "Emerson",
         "Bowley",
         "Knights Inn",
         "762 S Main St",
         "Madison",
         "Dane",
         "WI",
         53711,
         "608-336-7444",
         "608-658-7940",
         "emerson.bowley@bowley.org"
        ],
        [
         "Blair",
         "Malet",
         "Bollinger Mach Shp & Shipyard",
         "209 Decker Dr",
         "Philadelphia",
         "Philadelphia",
         "PA",
         19132,
         "215-907-9111",
         "215-794-4519",
         "bmalet@yahoo.com"
        ]
       ],
       "datasetInfos": [],
       "dbfsResultPath": null,
       "isJsonSchema": true,
       "metadata": {},
       "overflow": false,
       "plotOptions": {
        "customPlotOptions": {},
        "displayType": "table",
        "pivotAggregation": null,
        "pivotColumns": null,
        "xColumns": null,
        "yColumns": null
       },
       "removedWidgets": [],
       "schema": [
        {
         "metadata": "{}",
         "name": "first_name",
         "type": "\"string\""
        },
        {
         "metadata": "{}",
         "name": "last_name",
         "type": "\"string\""
        },
        {
         "metadata": "{}",
         "name": "company_name",
         "type": "\"string\""
        },
        {
         "metadata": "{}",
         "name": "address",
         "type": "\"string\""
        },
        {
         "metadata": "{}",
         "name": "city",
         "type": "\"string\""
        },
        {
         "metadata": "{}",
         "name": "county",
         "type": "\"string\""
        },
        {
         "metadata": "{}",
         "name": "state",
         "type": "\"string\""
        },
        {
         "metadata": "{}",
         "name": "zip",
         "type": "\"integer\""
        },
        {
         "metadata": "{}",
         "name": "phone1",
         "type": "\"string\""
        },
        {
         "metadata": "{}",
         "name": "phone",
         "type": "\"string\""
        },
        {
         "metadata": "{}",
         "name": "email",
         "type": "\"string\""
        }
       ],
       "type": "table"
      }
     },
     "output_type": "display_data"
    }
   ],
   "source": [
    "# Retrieving Data from Azure Databricks File System (DBFS)\n",
    "\n",
    "candidates_csv = f\"/FileStore/ds2002-lab06/sakila_dlh/50-contacts.csv\"\n",
    "\n",
    "df_candidates = spark.read.format('csv').options(header='true', inferSchema='true').load(candidates_csv)\n",
    "display(df_candidates)"
   ]
  },
  {
   "cell_type": "code",
   "execution_count": null,
   "metadata": {
    "application/vnd.databricks.v1+cell": {
     "cellMetadata": {
      "byteLimit": 2048000,
      "rowLimit": 10000
     },
     "inputWidgets": {},
     "nuid": "23232e90-9621-4460-9bfd-8e2e32adcc48",
     "showTitle": false,
     "title": ""
    }
   },
   "outputs": [],
   "source": [
    "df_candidates.write.format(\"delta\").mode(\"overwrite\").saveAsTable(\"sakila_dlh.dim_candidates\")"
   ]
  },
  {
   "cell_type": "code",
   "execution_count": null,
   "metadata": {
    "application/vnd.databricks.v1+cell": {
     "cellMetadata": {},
     "inputWidgets": {},
     "nuid": "de646da4-932b-4dd3-b84b-c3fccd9e67c2",
     "showTitle": false,
     "title": ""
    }
   },
   "outputs": [],
   "source": [
    "# Bronze Table\n",
    "(spark.readStream\n",
    " .format(\"cloudFiles\")\n",
    " .option(\"cloudFiles.format\", \"json\")\n",
    " .option(\"cloudFiles.schemaHints\", \"Index STRING\")\n",
    " .option(\"cloudFiles.schemaHints\", \"User_Id STRING\")\n",
    " .option(\"cloudFiles.schemaHints\", \"First_Name STRING\")\n",
    " .option(\"cloudFiles.schemaHints\", \"Last_Name STRING\") \n",
    " .option(\"cloudFiles.schemaHints\", \"Sex STRING\")\n",
    " .option(\"cloudFiles.schemaHints\", \"Email STRING\")\n",
    " .option(\"cloudFiles.schemaHints\", \"Phone STRING\")\n",
    " .option(\"cloudFiles.schemaHints\", \"Date_of_birth STRING\")\n",
    " .option(\"cloudFiles.schemaHints\", \"Job_Title STRING\")\n",
    " .option(\"cloudFiles.schemaLocation\", new_data_bronze)\n",
    " .option(\"cloudFiles.inferColumnTypes\", \"true\")\n",
    " .option(\"multiLine\", \"true\")\n",
    " .load(new_data_stream_dir)\n",
    " .createOrReplaceTempView(\"new_data_raw_tempview\"))"
   ]
  },
  {
   "cell_type": "code",
   "execution_count": null,
   "metadata": {
    "application/vnd.databricks.v1+cell": {
     "cellMetadata": {},
     "inputWidgets": {},
     "nuid": "92a90f90-1074-4607-ac9e-ded7b92a4a0c",
     "showTitle": false,
     "title": ""
    }
   },
   "outputs": [],
   "source": [
    "%sql\n",
    "/* Add Metadata for Traceability */\n",
    "CREATE OR REPLACE TEMPORARY VIEW new_data_bronze_tempview AS (\n",
    "  SELECT *, current_timestamp() receipt_time, input_file_name() source_file\n",
    "  FROM new_data_raw_tempview\n",
    ")"
   ]
  },
  {
   "cell_type": "code",
   "execution_count": null,
   "metadata": {
    "application/vnd.databricks.v1+cell": {
     "cellMetadata": {},
     "inputWidgets": {},
     "nuid": "fae06f1c-b523-49cd-81ce-f44fee517ee5",
     "showTitle": false,
     "title": ""
    }
   },
   "outputs": [],
   "source": [
    "(spark.table(\"new_data_bronze_tempview\")\n",
    "      .writeStream\n",
    "      .format(\"delta\")\n",
    "      .option(\"checkpointLocation\", f\"{new_data_bronze}/_checkpoint\")\n",
    "      .outputMode(\"append\")\n",
    "      .table(\"fact_new_data_bronze\"))"
   ]
  },
  {
   "cell_type": "code",
   "execution_count": null,
   "metadata": {
    "application/vnd.databricks.v1+cell": {
     "cellMetadata": {},
     "inputWidgets": {},
     "nuid": "78463eed-6079-4d78-9fc1-39a4bc2d2307",
     "showTitle": false,
     "title": ""
    }
   },
   "outputs": [],
   "source": [
    "(spark.readStream\n",
    "  .table(\"new_data_bronze\")\n",
    "  .createOrReplaceTempView(\"new_data_silver_tempview\"))"
   ]
  },
  {
   "cell_type": "code",
   "execution_count": null,
   "metadata": {
    "application/vnd.databricks.v1+cell": {
     "cellMetadata": {},
     "inputWidgets": {},
     "nuid": "d51f9b87-2c5b-478b-bf90-5a0c69e5baeb",
     "showTitle": false,
     "title": ""
    }
   },
   "outputs": [],
   "source": [
    "# Silver Table\n",
    "%sql\n",
    "CREATE OR REPLACE TEMPORARY VIEW fact_new_data_silver_tempview AS (\n",
    "  SELECT c.first_name,\n",
    "  c.last_name,\n",
    "  c.company_name,\n",
    "  nd.Email,\n",
    "  nd.Phone,\n",
    "  nd.JobTitle,\n",
    "FROM new_data_silver_tempview VERSION AS nd\n",
    "OUTER JOIN sakila_dlh.dim_candidates AS c\n",
    "ON nd.Last_Name = c.last_name\n",
    "}"
   ]
  },
  {
   "cell_type": "code",
   "execution_count": null,
   "metadata": {
    "application/vnd.databricks.v1+cell": {
     "cellMetadata": {},
     "inputWidgets": {},
     "nuid": "33cf784c-6c70-4ae8-adcb-c933a6e6aac9",
     "showTitle": false,
     "title": ""
    }
   },
   "outputs": [],
   "source": [
    "(spark.table(\"fact_new_data_silver_tempview\")\n",
    "      .writeStream\n",
    "      .format(\"delta\")\n",
    "      .option(\"checkpointLocation\", f\"{new_data_silver}/_checkpoint\")\n",
    "      .outputMode(\"append\")\n",
    "      .table(\"fact_new_data_silver\"))"
   ]
  },
  {
   "cell_type": "code",
   "execution_count": null,
   "metadata": {
    "application/vnd.databricks.v1+cell": {
     "cellMetadata": {},
     "inputWidgets": {},
     "nuid": "57b4954c-d77e-466c-91f7-fa4e0ec76a8e",
     "showTitle": false,
     "title": ""
    }
   },
   "outputs": [],
   "source": [
    "# Gold Table"
   ]
  },
  {
   "cell_type": "code",
   "execution_count": null,
   "metadata": {
    "application/vnd.databricks.v1+cell": {
     "cellMetadata": {},
     "inputWidgets": {},
     "nuid": "61f04a0e-f992-4ef2-844e-724e32e1afa7",
     "showTitle": false,
     "title": ""
    }
   },
   "outputs": [],
   "source": [
    "%sql\n",
    "SELECT COUNT(*), JobTitle\n",
    "FROM sakila_dlh.fact_new_data_silver\n",
    "GROUP BY JobTitle"
   ]
  }
 ],
 "metadata": {
  "application/vnd.databricks.v1+notebook": {
   "dashboards": [],
   "language": "python",
   "notebookMetadata": {
    "mostRecentlyExecutedCommandWithImplicitDF": {
     "commandId": 3108431812262401,
     "dataframes": [
      "_sqldf"
     ]
    },
    "pythonIndentUnit": 4
   },
   "notebookName": "Project-2-Capstone",
   "widgets": {}
  },
  "language_info": {
   "name": "python"
  }
 },
 "nbformat": 4,
 "nbformat_minor": 0
}
